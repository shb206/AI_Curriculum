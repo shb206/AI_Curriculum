{
 "cells": [
  {
   "cell_type": "markdown",
   "metadata": {},
   "source": [
    "- 변수 : 1개의 데이터를 저장하는 공간\n",
    "- 리스트/튜블/딕셔너리 : 여러 개의 데이터를 저장하는 공간\n",
    "\n",
    "    - 리스트(list) : 가변 공간 (변경(크기, 값)이 가능한 공간)\n",
    "        - 대괄호를 사용하여 값들을 저장\n",
    "    - 튜플(tuple) : 불가변 공간 (변경(크기, 값)이 불가능한 공간)\n",
    "        - 괄호를 사용하여 값들을 저장"
   ]
  },
  {
   "cell_type": "markdown",
   "metadata": {},
   "source": [
    "### 리스트 (list)\n",
    "\n",
    "- 대괄호를 이용햇 값을 할당\n",
    "- 숫자와 문자를 모두 저장할 수 있음\n",
    "- 리스트에 리스트를 저장할 수 있음\n",
    "- 리스트 요소(값)을 접근하는 방법으로는 indexing, slicing이 있음\n",
    "    - indexing : 리스트에서 값을 하나를 가져오는 것 또는 위치를 찾은 것\n",
    "    - slicing : 리스트에서 해당 범위의 값을 가져오는 것"
   ]
  },
  {
   "cell_type": "markdown",
   "metadata": {},
   "source": [
    "리스트 생성 및 할당"
   ]
  },
  {
   "cell_type": "code",
   "execution_count": 7,
   "metadata": {},
   "outputs": [],
   "source": [
    "list1 = []\n",
    "list2 = [0, 1, 2, 3, 4]\n",
    "list3 = [\"Python\", \"C\", \"Java\", \"C++\"]\n",
    "list4 = [1, 2, \"Python\"]\n",
    "list5 = [1, 2, [\"Python\", \"Java\"]]  # 2차원 리스트"
   ]
  },
  {
   "cell_type": "markdown",
   "metadata": {},
   "source": [
    "리스트 접근"
   ]
  },
  {
   "cell_type": "code",
   "execution_count": 9,
   "metadata": {},
   "outputs": [
    {
     "name": "stdout",
     "output_type": "stream",
     "text": [
      "2\n",
      "2\n",
      "5\n",
      "Python\n",
      "['Python', 'Java']\n",
      "Java\n"
     ]
    }
   ],
   "source": [
    "print(list2[2])\n",
    "print(list2[-3])\n",
    "\n",
    "print(list2[2] + list2[3])\n",
    "\n",
    "print(list4[2])\n",
    "\n",
    "# 2차원 리스트에 접근하기\n",
    "print(list5[2])\n",
    "print(list5[2][1])"
   ]
  },
  {
   "cell_type": "code",
   "execution_count": 16,
   "metadata": {},
   "outputs": [
    {
     "data": {
      "text/plain": [
       "[1, 2, 3, ['a', 'b', 'c'], 4, 5, ['d', 'e']]"
      ]
     },
     "execution_count": 16,
     "metadata": {},
     "output_type": "execute_result"
    }
   ],
   "source": [
    "list5 = [1, 2, 3, [\"a\", \"b\", \"c\"], 4, 5, [\"d\", \"e\"]]\n",
    "list5"
   ]
  },
  {
   "cell_type": "code",
   "execution_count": 17,
   "metadata": {},
   "outputs": [
    {
     "name": "stdout",
     "output_type": "stream",
     "text": [
      "3\n",
      "c\n",
      "5\n",
      "e\n"
     ]
    }
   ],
   "source": [
    "# 3\n",
    "print(list5[2])\n",
    "# c\n",
    "print(list5[3][2])\n",
    "# 5\n",
    "print(list5[5])\n",
    "# e\n",
    "print(list5[6][1])"
   ]
  },
  {
   "cell_type": "markdown",
   "metadata": {},
   "source": [
    "슬라이싱 : [시작인덱스:끝인덱스+1]"
   ]
  },
  {
   "cell_type": "code",
   "execution_count": 20,
   "metadata": {},
   "outputs": [
    {
     "name": "stdout",
     "output_type": "stream",
     "text": [
      "[1, 2, 3]\n",
      "[1, 2, 3]\n",
      "[4, 5, 6]\n",
      "[6, 7]\n",
      "[6, 7]\n"
     ]
    }
   ],
   "source": [
    "list6 = [1, 2, 3, 4, 5, 6, 7]\n",
    "\n",
    "# 1, 2, 3\n",
    "print(list6[0:3])\n",
    "print(list6[:3])\n",
    "# 4, 5, 6\n",
    "print(list6[3:6])\n",
    "# 6, 7\n",
    "print(list6[5:])\n",
    "print(list6[-2:])"
   ]
  },
  {
   "cell_type": "markdown",
   "metadata": {},
   "source": [
    "자료 관리 : 저장/추가, 검색/불러오기, 수정, 삭제\n",
    "\n",
    "리스트에 값을 추가하기\n",
    "\n",
    "- 리스트명.append(값)\n",
    "    - 리스트의 마지막 위치에 값이 추가"
   ]
  },
  {
   "cell_type": "code",
   "execution_count": 23,
   "metadata": {},
   "outputs": [
    {
     "data": {
      "text/plain": [
       "[1, 2, 30, 100, 77]"
      ]
     },
     "execution_count": 23,
     "metadata": {},
     "output_type": "execute_result"
    }
   ],
   "source": [
    "list9 = [1, 2]\n",
    "\n",
    "list9.append(30)\n",
    "list9.append(100)\n",
    "list9.append(77)\n",
    "\n",
    "list9"
   ]
  },
  {
   "cell_type": "markdown",
   "metadata": {},
   "source": [
    "리스트명.insert(index, 값)\n",
    "\n",
    "- 해당 index에 값을 추가"
   ]
  },
  {
   "cell_type": "code",
   "execution_count": 27,
   "metadata": {},
   "outputs": [
    {
     "data": {
      "text/plain": [
       "[1, 'Python', 'Python', 'Python', 'Python', '??', 2, '??', 30, 100, 77]"
      ]
     },
     "execution_count": 27,
     "metadata": {},
     "output_type": "execute_result"
    }
   ],
   "source": [
    "list9.insert(1, \"Python\")\n",
    "list9.insert(5, \"??\")\n",
    "list9"
   ]
  },
  {
   "cell_type": "code",
   "execution_count": 28,
   "metadata": {},
   "outputs": [
    {
     "data": {
      "text/plain": [
       "[1,\n",
       " 'Python',\n",
       " ['C', 'C#', 'C++'],\n",
       " 'Python',\n",
       " 'Python',\n",
       " 'Python',\n",
       " '??',\n",
       " 2,\n",
       " '??',\n",
       " 30,\n",
       " 100,\n",
       " 77]"
      ]
     },
     "execution_count": 28,
     "metadata": {},
     "output_type": "execute_result"
    }
   ],
   "source": [
    "list9.insert(2, [\"C\", \"C#\", \"C++\"])\n",
    "list9"
   ]
  },
  {
   "cell_type": "code",
   "execution_count": 31,
   "metadata": {},
   "outputs": [
    {
     "data": {
      "text/plain": [
       "[1, 2, [3, 5, 4, 'C++'], 10, 5]"
      ]
     },
     "execution_count": 31,
     "metadata": {},
     "output_type": "execute_result"
    }
   ],
   "source": [
    "list10 = [1, 2, [3, 4], 5]\n",
    "list10.insert(3, 10)\n",
    "list10[2].insert(1, 5)\n",
    "list10[2].append(\"C++\")\n",
    "list10"
   ]
  },
  {
   "cell_type": "markdown",
   "metadata": {},
   "source": [
    "리스트의 값을 수정하기\n",
    "\n",
    "- 리스트명[인덱스] = 값\n",
    "    - 해당 인덱스 위치의 값을 수정"
   ]
  },
  {
   "cell_type": "code",
   "execution_count": 32,
   "metadata": {},
   "outputs": [
    {
     "data": {
      "text/plain": [
       "[1, '이', [3, 5, 4, 'C++'], 10, 5]"
      ]
     },
     "execution_count": 32,
     "metadata": {},
     "output_type": "execute_result"
    }
   ],
   "source": [
    "list10[1] = \"이\"\n",
    "list10"
   ]
  },
  {
   "cell_type": "code",
   "execution_count": 33,
   "metadata": {},
   "outputs": [
    {
     "data": {
      "text/plain": [
       "[1, '이', ['삼', 5, 4, 'C++'], 10, 5]"
      ]
     },
     "execution_count": 33,
     "metadata": {},
     "output_type": "execute_result"
    }
   ],
   "source": [
    "list10[2][0] = \"삼\"\n",
    "list10"
   ]
  },
  {
   "cell_type": "markdown",
   "metadata": {},
   "source": [
    "리스트의 값을 슬라이싱으로 수정할 경우 대입 값도 리스트여야 함\n",
    "- 리스트명[시작인덱스:끝인덱스+1] = [값, ...]"
   ]
  },
  {
   "cell_type": "code",
   "execution_count": 35,
   "metadata": {},
   "outputs": [
    {
     "data": {
      "text/plain": [
       "[7, 'Java', 2]"
      ]
     },
     "execution_count": 35,
     "metadata": {},
     "output_type": "execute_result"
    }
   ],
   "source": [
    "list9 = [0, 1, 2]\n",
    "list9[0:2] = [7, \"Java\"]\n",
    "# list9[0:2] = 7  =>  에러\n",
    "list9"
   ]
  },
  {
   "cell_type": "code",
   "execution_count": 36,
   "metadata": {},
   "outputs": [
    {
     "data": {
      "text/plain": [
       "[7, 2]"
      ]
     },
     "execution_count": 36,
     "metadata": {},
     "output_type": "execute_result"
    }
   ],
   "source": [
    "list9[0:2] = [7]\n",
    "list9"
   ]
  },
  {
   "cell_type": "code",
   "execution_count": 39,
   "metadata": {},
   "outputs": [
    {
     "data": {
      "text/plain": [
       "[7, 2, 10, 11]"
      ]
     },
     "execution_count": 39,
     "metadata": {},
     "output_type": "execute_result"
    }
   ],
   "source": [
    "list9 + [10, 11]"
   ]
  },
  {
   "cell_type": "markdown",
   "metadata": {},
   "source": [
    "리스트 값 삭제\n",
    "\n",
    "- del 리스트명[인덱스] : 해당 인덱스를 삭제\n",
    "- 리스트명.remove(값) : 해당하는 값 중 첫번째 값을 삭제"
   ]
  },
  {
   "cell_type": "code",
   "execution_count": 40,
   "metadata": {},
   "outputs": [
    {
     "data": {
      "text/plain": [
       "[2]"
      ]
     },
     "execution_count": 40,
     "metadata": {},
     "output_type": "execute_result"
    }
   ],
   "source": [
    "del list9[0]\n",
    "# 없는 값을 제거하려 하면 에러가 발생\n",
    "# list9.remove(100) => 에러\n",
    "list9"
   ]
  },
  {
   "cell_type": "code",
   "execution_count": 46,
   "metadata": {},
   "outputs": [
    {
     "data": {
      "text/plain": [
       "[2, 2, 4, ['Python'], 9, 2, 4, ['Python', 8], 9]"
      ]
     },
     "execution_count": 46,
     "metadata": {},
     "output_type": "execute_result"
    }
   ],
   "source": [
    "list9 += [2, 4, [\"Python\", 8], 9]\n",
    "list9"
   ]
  },
  {
   "cell_type": "code",
   "execution_count": 48,
   "metadata": {},
   "outputs": [
    {
     "data": {
      "text/plain": [
       "[2, 2, 4, ['Python'], 9, 2, 4, ['Python'], 9]"
      ]
     },
     "execution_count": 48,
     "metadata": {},
     "output_type": "execute_result"
    }
   ],
   "source": [
    "# 2차원 리스트 삭제는 추가와 마찬가지로 1차원 인덱스를 지정해주어야 함\n",
    "# list9.remove(\"Python\")\n",
    "list9[7].remove(8)\n",
    "list9"
   ]
  },
  {
   "cell_type": "code",
   "execution_count": 44,
   "metadata": {},
   "outputs": [],
   "source": [
    "# 리스트 초기화\n",
    "# list9 = []"
   ]
  },
  {
   "cell_type": "code",
   "execution_count": 49,
   "metadata": {},
   "outputs": [
    {
     "data": {
      "text/plain": [
       "[2, 4, ['Python'], 9, 2, 4, ['Python'], 9]"
      ]
     },
     "execution_count": 49,
     "metadata": {},
     "output_type": "execute_result"
    }
   ],
   "source": [
    "del list9[1]\n",
    "list9"
   ]
  },
  {
   "cell_type": "markdown",
   "metadata": {},
   "source": [
    "정렬 (sorting) : 순서대로 값을 배치하는 작업\n",
    "\n",
    "- 오름차순 정렬 : 작은 값부터 배치하는 것\n",
    "- 내림차순 정렬 : 큰 값부터 배치하는 것\n",
    "- 정렬은 값이 문자인 경우는 한글순 또는 알파벳 순으로 적용\n",
    "- 숫자와 문자가 같이 있는 경우는 숫자 -> 문자 순으로 적용"
   ]
  },
  {
   "cell_type": "code",
   "execution_count": 51,
   "metadata": {},
   "outputs": [
    {
     "data": {
      "text/plain": [
       "[10, 14, 20, 20, 30, 33]"
      ]
     },
     "execution_count": 51,
     "metadata": {},
     "output_type": "execute_result"
    }
   ],
   "source": [
    "list11 = [20, 10, 30, 14, 20, 33]\n",
    "\n",
    "# 오름차순 정렬\n",
    "list11.sort()\n",
    "list11"
   ]
  },
  {
   "cell_type": "code",
   "execution_count": 52,
   "metadata": {},
   "outputs": [
    {
     "data": {
      "text/plain": [
       "[33, 30, 20, 20, 14, 10]"
      ]
     },
     "execution_count": 52,
     "metadata": {},
     "output_type": "execute_result"
    }
   ],
   "source": [
    "# 앞과 뒤의 순서를 뒤집기 -> reverse()\n",
    "\n",
    "list11.reverse()\n",
    "\n",
    "list11"
   ]
  },
  {
   "cell_type": "code",
   "execution_count": 53,
   "metadata": {},
   "outputs": [
    {
     "data": {
      "text/plain": [
       "[5, 4, 3, 2, 1]"
      ]
     },
     "execution_count": 53,
     "metadata": {},
     "output_type": "execute_result"
    }
   ],
   "source": [
    "list12 = [1, 3, 2, 4, 5]\n",
    "\n",
    "# 내림차순\n",
    "list12.sort()\n",
    "list12.reverse()\n",
    "\n",
    "list12"
   ]
  },
  {
   "cell_type": "code",
   "execution_count": 54,
   "metadata": {},
   "outputs": [
    {
     "name": "stdout",
     "output_type": "stream",
     "text": [
      "[1, 2, 5, 5, 6, 7, 8]\n",
      "[8, 7, 6, 5, 5, 2, 1]\n"
     ]
    }
   ],
   "source": [
    "list12 = [5, 6, 2, 1, 5, 7, 8]\n",
    "\n",
    "# 오름차순\n",
    "list12.sort()\n",
    "print(list12)\n",
    "# 내림차순\n",
    "list12.reverse()\n",
    "print(list12)"
   ]
  },
  {
   "cell_type": "markdown",
   "metadata": {},
   "source": [
    "해당 값의 인덱스를 반환 : index(값)\n",
    "\n",
    "- 값이 2개 이상 있다면 첫 번째 인덱스를 반환"
   ]
  },
  {
   "cell_type": "code",
   "execution_count": 55,
   "metadata": {},
   "outputs": [
    {
     "data": {
      "text/plain": [
       "0"
      ]
     },
     "execution_count": 55,
     "metadata": {},
     "output_type": "execute_result"
    }
   ],
   "source": [
    "list12 = [5, 6, 2, 1, 5, 7, 8]\n",
    "\n",
    "list12.index(5)"
   ]
  },
  {
   "cell_type": "markdown",
   "metadata": {},
   "source": [
    "pop() : 리스트의 마지막 값을 반환하고 해당 값을 삭제"
   ]
  },
  {
   "cell_type": "code",
   "execution_count": 56,
   "metadata": {},
   "outputs": [
    {
     "name": "stdout",
     "output_type": "stream",
     "text": [
      "8\n"
     ]
    },
    {
     "data": {
      "text/plain": [
       "[5, 6, 2, 1, 5, 7]"
      ]
     },
     "execution_count": 56,
     "metadata": {},
     "output_type": "execute_result"
    }
   ],
   "source": [
    "list12 = [5, 6, 2, 1, 5, 7, 8]\n",
    "\n",
    "print(list12.pop())\n",
    "\n",
    "list12"
   ]
  },
  {
   "cell_type": "markdown",
   "metadata": {},
   "source": [
    "리스트의 값의 갯수를 반환 : len()"
   ]
  },
  {
   "cell_type": "code",
   "execution_count": 58,
   "metadata": {},
   "outputs": [
    {
     "data": {
      "text/plain": [
       "6"
      ]
     },
     "execution_count": 58,
     "metadata": {},
     "output_type": "execute_result"
    }
   ],
   "source": [
    "len(list12)"
   ]
  },
  {
   "cell_type": "markdown",
   "metadata": {},
   "source": [
    "회원 관리 프로그램\n",
    "\n",
    "- 메뉴를 출력 (데이터 저장, 검색, 수정, 삭제, 종료)\n",
    "- 메뉴를 선택\n",
    "- 만약 저장을 선택했다면 회원 이름을 입력받음\n",
    "    - 입력받은 이름을 리스트에 저장하고 리스트 내용을 출력\n",
    "- 만약 검색을 선택했다면 회원 이름을 입력받음\n",
    "    - 입력받은 회원 이름의 인덱스를 출력\n",
    "- 만약 수정을 선택했다면 인덱스와 새 회원 이름를 입력받음\n",
    "    - 해당 인덱스에 새 회원 이름으로 변경하고 리스트 내용을 출력\n",
    "- 만약 삭제를 선택했다면 인덱스를 입력받음\n",
    "    - 입력받은 인덱스를 삭제하고 리스트 내용을 출력\n",
    "- 만약 종료를 선택했다면 종료했습니다 를 출력"
   ]
  },
  {
   "cell_type": "code",
   "execution_count": 59,
   "metadata": {},
   "outputs": [
    {
     "name": "stdout",
     "output_type": "stream",
     "text": [
      "[1] 저장\t[2] 검색\t[3] 수정\t[4] 삭제\t[5] 종료\n"
     ]
    }
   ],
   "source": [
    "# 메뉴를 출력 (데이터 저장, 검색, 수정, 삭제, 종료)\n",
    "print(\"[1] 저장\\t[2] 검색\\t[3] 수정\\t[4] 삭제\\t[5] 종료\")"
   ]
  },
  {
   "cell_type": "code",
   "execution_count": 63,
   "metadata": {},
   "outputs": [
    {
     "name": "stdout",
     "output_type": "stream",
     "text": [
      "메뉴를 선택하세요 >> 1\n"
     ]
    }
   ],
   "source": [
    "# 메뉴를 선택\n",
    "menu = int(input(\"메뉴를 선택하세요 >> \"))"
   ]
  },
  {
   "cell_type": "code",
   "execution_count": 61,
   "metadata": {},
   "outputs": [],
   "source": [
    "nameList = [] # 빈 리스트"
   ]
  },
  {
   "cell_type": "code",
   "execution_count": 65,
   "metadata": {},
   "outputs": [
    {
     "name": "stdout",
     "output_type": "stream",
     "text": [
      "회원 이름 입력 >> 김유신\n",
      "['홍길동', '김유신']\n"
     ]
    }
   ],
   "source": [
    "# 만약 저장을 선택했다면 회원 이름을 입력받음\n",
    "if menu == 1:\n",
    "    memberName = input(\"회원 이름 입력 >> \")\n",
    "    # 입력받은 이름을 리스트에 저장\n",
    "    nameList.append(memberName)\n",
    "    # 리스트 내용을 출력\n",
    "    print(nameList)"
   ]
  },
  {
   "cell_type": "code",
   "execution_count": 67,
   "metadata": {},
   "outputs": [
    {
     "name": "stdout",
     "output_type": "stream",
     "text": [
      "전체 회원 수 : 2명\n"
     ]
    }
   ],
   "source": [
    "# 전체 회원 수 출력\n",
    "print(\"전체 회원 수 : {}명\".format(len(nameList)))"
   ]
  },
  {
   "cell_type": "code",
   "execution_count": 68,
   "metadata": {},
   "outputs": [
    {
     "data": {
      "text/plain": [
       "['김유신', '홍길동']"
      ]
     },
     "execution_count": 68,
     "metadata": {},
     "output_type": "execute_result"
    }
   ],
   "source": [
    "# 회원 이름을 ㄱ ㄴ ㄷ 순으로 정렬\n",
    "nameList.sort()\n",
    "nameList"
   ]
  },
  {
   "cell_type": "code",
   "execution_count": 69,
   "metadata": {},
   "outputs": [
    {
     "data": {
      "text/plain": [
       "['홍길동', '김유신']"
      ]
     },
     "execution_count": 69,
     "metadata": {},
     "output_type": "execute_result"
    }
   ],
   "source": [
    "# 회원 이름을 ㅎ ㅍ ㅌ 순으로 정렬\n",
    "nameList.reverse()\n",
    "nameList"
   ]
  },
  {
   "cell_type": "code",
   "execution_count": 71,
   "metadata": {},
   "outputs": [
    {
     "name": "stdout",
     "output_type": "stream",
     "text": [
      "메뉴를 선택하세요 >> 2\n"
     ]
    }
   ],
   "source": [
    "# 만약 검색을 선택했다면\n",
    "menu = int(input(\"메뉴를 선택하세요 >> \")) # 2"
   ]
  },
  {
   "cell_type": "code",
   "execution_count": 74,
   "metadata": {},
   "outputs": [
    {
     "name": "stdout",
     "output_type": "stream",
     "text": [
      "이름을 입력하세요 >> 김유신\n",
      "김유신 회원의 index는 1입니다.\n"
     ]
    }
   ],
   "source": [
    "if menu == 2:\n",
    "    # 회원 이름을 입력받음\n",
    "    name = input(\"이름을 입력하세요 >> \")\n",
    "    # 입력받은 회원 이름의 인덱스를 출력\n",
    "    nameIndex = nameList.index(name)\n",
    "    print(\"{} 회원의 index는 {}입니다.\".format(name, nameIndex))"
   ]
  },
  {
   "cell_type": "code",
   "execution_count": 75,
   "metadata": {},
   "outputs": [],
   "source": [
    "# 만약 수정을 선택했다면 인덱스와 새 회원 이름을 입력받음\n",
    "# 해당 인덱스에 새 회원 이름으로 변경하고 리스트 내용을 출력"
   ]
  },
  {
   "cell_type": "code",
   "execution_count": 76,
   "metadata": {},
   "outputs": [
    {
     "name": "stdout",
     "output_type": "stream",
     "text": [
      "메뉴를 선택하세요 >> 3\n"
     ]
    }
   ],
   "source": [
    "menu = int(input(\"메뉴를 선택하세요 >> \")) # 3"
   ]
  },
  {
   "cell_type": "code",
   "execution_count": 77,
   "metadata": {},
   "outputs": [
    {
     "name": "stdout",
     "output_type": "stream",
     "text": [
      "이름을 입력하세요 >> 박유신\n",
      "입력할 위치(index)를 입력하세요 >> 1\n",
      "변경된 리스트 :  ['홍길동', '박유신']\n"
     ]
    }
   ],
   "source": [
    "if menu == 3:\n",
    "    name = input(\"이름을 입력하세요 >> \")\n",
    "    nameIndex = int(input(\"입력할 위치(index)를 입력하세요 >> \"))\n",
    "    nameList[nameIndex] = name\n",
    "    print(\"변경된 리스트 : \", nameList)"
   ]
  },
  {
   "cell_type": "code",
   "execution_count": 78,
   "metadata": {},
   "outputs": [
    {
     "name": "stdout",
     "output_type": "stream",
     "text": [
      "메뉴를 선택하세요 >> 4\n"
     ]
    }
   ],
   "source": [
    "menu = int(input(\"메뉴를 선택하세요 >> \")) # 4"
   ]
  },
  {
   "cell_type": "code",
   "execution_count": 80,
   "metadata": {},
   "outputs": [
    {
     "name": "stdout",
     "output_type": "stream",
     "text": [
      "삭제할 위치(index)를 입력하세요 >> 0\n",
      "변경된 리스트 :  ['박유신']\n"
     ]
    }
   ],
   "source": [
    "# 만약 삭제를 선택했다면 인덱스를 입력받음\n",
    "# 입력받은 인덱스를 삭제하고 리스트 내용을 출력\n",
    "\n",
    "if menu == 4:\n",
    "    nameIndex = int(input(\"삭제할 위치(index)를 입력하세요 >> \"))\n",
    "    # 만약 값으로 지운다면\n",
    "    # nameList.remove(값)\n",
    "    del nameList[nameIndex]\n",
    "    print(\"변경된 리스트 : \", nameList)"
   ]
  },
  {
   "cell_type": "code",
   "execution_count": null,
   "metadata": {},
   "outputs": [],
   "source": [
    "if num == 5:\n",
    "    print(\"종료하였습니다\")"
   ]
  },
  {
   "cell_type": "markdown",
   "metadata": {},
   "source": [
    "### 튜플(tuple)\n",
    "\n",
    "- 사용법은 리스트와 동일\n",
    "- 차이점 : 수정, 삭제, 추가가 불가능 (원래 값 그대로 사용)\n",
    "- 차이점 : 괄호를 사용해서 값을 할당"
   ]
  },
  {
   "cell_type": "code",
   "execution_count": 81,
   "metadata": {},
   "outputs": [],
   "source": [
    "tuple1 = ()\n",
    "tuple2 = (1, 2, 3, 4)\n",
    "tuple3 = (\"파이썬\", \"Java\", \"C\")\n",
    "tuple4 = (1, 2, \"파이썬\")\n",
    "tuple5 = (1, 2, (3, 4, 5))"
   ]
  },
  {
   "cell_type": "markdown",
   "metadata": {},
   "source": [
    "튜플 접근"
   ]
  },
  {
   "cell_type": "code",
   "execution_count": 83,
   "metadata": {},
   "outputs": [
    {
     "name": "stdout",
     "output_type": "stream",
     "text": [
      "2\n",
      "4\n"
     ]
    }
   ],
   "source": [
    "# tuple5에서\n",
    "# 2\n",
    "print(tuple5[1])\n",
    "# 4\n",
    "print(tuple5[2][1])"
   ]
  },
  {
   "cell_type": "code",
   "execution_count": 84,
   "metadata": {},
   "outputs": [
    {
     "name": "stdout",
     "output_type": "stream",
     "text": [
      "(1, 2, 3)\n",
      "(3, 4)\n"
     ]
    }
   ],
   "source": [
    "# tuple2에서\n",
    "# 1, 2, 3\n",
    "print(tuple2[:3])\n",
    "# 3, 4\n",
    "print(tuple2[2:])"
   ]
  },
  {
   "cell_type": "code",
   "execution_count": 85,
   "metadata": {},
   "outputs": [
    {
     "data": {
      "text/plain": [
       "4"
      ]
     },
     "execution_count": 85,
     "metadata": {},
     "output_type": "execute_result"
    }
   ],
   "source": [
    "# 튜플에 저장된 데이터의 수\n",
    "len(tuple2)"
   ]
  },
  {
   "cell_type": "code",
   "execution_count": 86,
   "metadata": {},
   "outputs": [
    {
     "ename": "TypeError",
     "evalue": "'tuple' object does not support item assignment",
     "output_type": "error",
     "traceback": [
      "\u001b[1;31m---------------------------------------------------------------------------\u001b[0m",
      "\u001b[1;31mTypeError\u001b[0m                                 Traceback (most recent call last)",
      "\u001b[1;32m<ipython-input-86-4c7fdbf45e18>\u001b[0m in \u001b[0;36m<module>\u001b[1;34m\u001b[0m\n\u001b[0;32m      1\u001b[0m \u001b[1;31m# 튜플은 데이터를 추가, 수정, 삭제가 불가능\u001b[0m\u001b[1;33m\u001b[0m\u001b[1;33m\u001b[0m\u001b[1;33m\u001b[0m\u001b[0m\n\u001b[1;32m----> 2\u001b[1;33m \u001b[0mtuple2\u001b[0m\u001b[1;33m[\u001b[0m\u001b[1;36m1\u001b[0m\u001b[1;33m]\u001b[0m \u001b[1;33m=\u001b[0m \u001b[1;36m10\u001b[0m\u001b[1;33m\u001b[0m\u001b[1;33m\u001b[0m\u001b[0m\n\u001b[0m",
      "\u001b[1;31mTypeError\u001b[0m: 'tuple' object does not support item assignment"
     ]
    }
   ],
   "source": [
    "# 튜플은 데이터를 추가, 수정, 삭제가 불가능\n",
    "tuple2[1] = 10"
   ]
  },
  {
   "cell_type": "markdown",
   "metadata": {},
   "source": [
    "만약 튜플의 값을 변경하고 싶다면\n",
    "\n",
    "- 리스트로 변환해서 변경하고 다시 튜플로 변환\n",
    "- list() : 데이터를 리스트로 변환\n",
    "- tuple() : 데이터를 튜플로 변환"
   ]
  },
  {
   "cell_type": "code",
   "execution_count": 87,
   "metadata": {},
   "outputs": [
    {
     "data": {
      "text/plain": [
       "['파이썬', 'Java', 'C']"
      ]
     },
     "execution_count": 87,
     "metadata": {},
     "output_type": "execute_result"
    }
   ],
   "source": [
    "tuple3 = (\"파이썬\", \"Java\", \"C\")\n",
    "\n",
    "list01 = list(tuple3)\n",
    "list01"
   ]
  },
  {
   "cell_type": "code",
   "execution_count": 88,
   "metadata": {},
   "outputs": [
    {
     "data": {
      "text/plain": [
       "('Python', 'Java', 'C')"
      ]
     },
     "execution_count": 88,
     "metadata": {},
     "output_type": "execute_result"
    }
   ],
   "source": [
    "# \"파이썬\" -> \"Python\"으로 변경\n",
    "list01[0] = \"Python\"\n",
    "tuple3 = tuple(list01)\n",
    "tuple3"
   ]
  },
  {
   "cell_type": "markdown",
   "metadata": {},
   "source": [
    "### 복습\n",
    "\n",
    "- 변수 : 한 개의 데이터를 저장하는 공간\n",
    "- 배열 : 여러 개의 데이터를 저장하는 공간 (list/tuple/dictionary)\n",
    "- 리스트\n",
    "    - 대괄호를 이용해서 정의\n",
    "    - 숫자, 문자, 숫자 + 문자, 리스트 저장 가능\n",
    "    - 수정, 삭제, 저장이 가능\n",
    "- tuple\n",
    "    - 괄호를 이용해서 정의\n",
    "    - 숫자, 문자, 숫자 + 문자, 리스트 저장 가능\n",
    "    - 수정, 삭제, 저장이 불가능\n",
    "    - 검색만 가능"
   ]
  },
  {
   "cell_type": "code",
   "execution_count": 2,
   "metadata": {},
   "outputs": [],
   "source": [
    "# 리스트를 선언\n",
    "list1 = []\n",
    "list2 = [1, 2, 3, 4]\n",
    "list3 = [\"1\", \"2\", \"3\", \"4\"]\n",
    "list4 = [1, 2, \"3\", \"4\"]\n",
    "list5 = [1, [2, \"3\"], \"4\"]"
   ]
  },
  {
   "cell_type": "code",
   "execution_count": 3,
   "metadata": {},
   "outputs": [
    {
     "name": "stdout",
     "output_type": "stream",
     "text": [
      "[1, 2, 3, 4, 20]\n",
      "[1, 2, 7, 3, 4, 20]\n"
     ]
    }
   ],
   "source": [
    "# 리스트 추가\n",
    "# 리스트명.append(값) : 리스트의 마지막에 값을 추가\n",
    "# 리스트명.insert(인덱스, 값) : 해당 인덱스 위치에 값을 추가\n",
    "\n",
    "list2.append(20)\n",
    "print(list2)\n",
    "\n",
    "list2.insert(2, 7)\n",
    "print(list2)"
   ]
  },
  {
   "cell_type": "code",
   "execution_count": 4,
   "metadata": {},
   "outputs": [
    {
     "name": "stdout",
     "output_type": "stream",
     "text": [
      "[50, 2, 7, 3, 4, 20]\n"
     ]
    }
   ],
   "source": [
    "# 리스트 값을 변경\n",
    "# 리스트명[인덱스] = 값1 : 해당 인덱스의 값이 값1로 변경\n",
    "list2[0] = 50\n",
    "print(list2)"
   ]
  },
  {
   "cell_type": "code",
   "execution_count": 7,
   "metadata": {},
   "outputs": [
    {
     "name": "stdout",
     "output_type": "stream",
     "text": [
      "['1', '2', '4']\n",
      "['1', '4']\n"
     ]
    }
   ],
   "source": [
    "# 리스트 값을 삭제\n",
    "# del 리스트명[인덱스] : 해당 인덱스의 값을 삭제\n",
    "# 리스트명.remove(값) : 리스트에서 첫 번째 해당 값을 삭제\n",
    "print(list3)\n",
    "\n",
    "# del list3[2]\n",
    "# print(list3)\n",
    "\n",
    "list3.remove(\"2\")\n",
    "print(list3)"
   ]
  },
  {
   "cell_type": "code",
   "execution_count": 10,
   "metadata": {},
   "outputs": [
    {
     "name": "stdout",
     "output_type": "stream",
     "text": [
      "[50, 20, 7, 4, 3, 2]\n",
      "[2, 3, 4, 7, 20, 50]\n",
      "[50, 20, 7, 4, 3, 2]\n",
      "['C', 'C#', 'Java', 'Python', 'python', '사자', '홍길동']\n"
     ]
    }
   ],
   "source": [
    "# 리스트 정렬\n",
    "# 리스트.sort() : 리스트를 크기순으로 오름차순 정렬\n",
    "# 리스트명.reverse() : 리스트의 앞뒤 순서를 뒤집는 기능\n",
    "print(list2)\n",
    "\n",
    "# 오름차순 정렬\n",
    "list2.sort()\n",
    "print(list2)\n",
    "\n",
    "# 내림차순 정렬\n",
    "list2.reverse()\n",
    "print(list2)\n",
    "\n",
    "# 문자는 영문자 -> 한글\n",
    "# 영문자인 경우 대문자 -> 소문자\n",
    "list6 = [\"Python\", \"python\", \"Java\", \"C\", \"C#\", \"홍길동\", \"사자\"]\n",
    "list6.sort()\n",
    "print(list6)"
   ]
  },
  {
   "cell_type": "code",
   "execution_count": 11,
   "metadata": {},
   "outputs": [
    {
     "name": "stdout",
     "output_type": "stream",
     "text": [
      "2\n",
      "사자\n",
      "['Python', 'python', 'Java', 'C', 'C#', '홍길동']\n"
     ]
    }
   ],
   "source": [
    "# 리스트 검색\n",
    "# 리스트명.index(값) : 해당 값의 첫 번째 인덱스를 반환\n",
    "# 리스트명.pop() : 리스트에서 마지막 인덱스의 값을 반환하고 삭제\n",
    "list6 = [\"Python\", \"python\", \"Java\", \"C\", \"C#\", \"홍길동\", \"사자\"]\n",
    "\n",
    "print(list6.index(\"Java\"))\n",
    "\n",
    "print(list6.pop())\n",
    "print(list6)"
   ]
  },
  {
   "cell_type": "code",
   "execution_count": 12,
   "metadata": {},
   "outputs": [
    {
     "name": "stdout",
     "output_type": "stream",
     "text": [
      "6\n"
     ]
    }
   ],
   "source": [
    "# 리스트의 크기 -> len(리스트명)\n",
    "print(len(list6))"
   ]
  },
  {
   "cell_type": "code",
   "execution_count": 13,
   "metadata": {},
   "outputs": [],
   "source": [
    "# 튜플 선언하고 할당\n",
    "tuple1 = ()\n",
    "tuple2 = (1, 2, 3, 4)\n",
    "tuple3 = (\"1\", \"2\", \"3\", \"4\")\n",
    "tuple4 = (1, 2, \"3\", \"4\")\n",
    "tuple5 = (1, (2, \"3\"), \"4\")"
   ]
  },
  {
   "cell_type": "code",
   "execution_count": 17,
   "metadata": {},
   "outputs": [
    {
     "name": "stdout",
     "output_type": "stream",
     "text": [
      "4\n",
      "(1, 2)\n",
      "(1, 2)\n",
      "(3, 4)\n"
     ]
    }
   ],
   "source": [
    "# 인덱싱 : 튜플명[인덱스]\n",
    "print(tuple2[3])\n",
    "\n",
    "# 슬라이싱 : 튜플명[시작인덱스:끝인덱스+1]\n",
    "print(tuple2[0:2])\n",
    "print(tuple2[:2])\n",
    "print(tuple2[2:])"
   ]
  },
  {
   "cell_type": "code",
   "execution_count": 18,
   "metadata": {},
   "outputs": [
    {
     "data": {
      "text/plain": [
       "'3'"
      ]
     },
     "execution_count": 18,
     "metadata": {},
     "output_type": "execute_result"
    }
   ],
   "source": [
    "# 2차원 데이터 접근\n",
    "tuple5 = (1, (2, \"3\"), \"4\")\n",
    "\n",
    "# \"3\"\n",
    "tuple5[1][1]"
   ]
  },
  {
   "cell_type": "code",
   "execution_count": 19,
   "metadata": {},
   "outputs": [
    {
     "ename": "TypeError",
     "evalue": "'tuple' object doesn't support item deletion",
     "output_type": "error",
     "traceback": [
      "\u001b[1;31m---------------------------------------------------------------------------\u001b[0m",
      "\u001b[1;31mTypeError\u001b[0m                                 Traceback (most recent call last)",
      "\u001b[1;32m<ipython-input-19-f1addadbaad4>\u001b[0m in \u001b[0;36m<module>\u001b[1;34m\u001b[0m\n\u001b[0;32m      1\u001b[0m \u001b[1;31m# 튜플은 수정, 삭제, 저장이 불가능\u001b[0m\u001b[1;33m\u001b[0m\u001b[1;33m\u001b[0m\u001b[1;33m\u001b[0m\u001b[0m\n\u001b[1;32m----> 2\u001b[1;33m \u001b[1;32mdel\u001b[0m \u001b[0mtuple5\u001b[0m\u001b[1;33m[\u001b[0m\u001b[1;36m2\u001b[0m\u001b[1;33m]\u001b[0m\u001b[1;33m\u001b[0m\u001b[1;33m\u001b[0m\u001b[0m\n\u001b[0m",
      "\u001b[1;31mTypeError\u001b[0m: 'tuple' object doesn't support item deletion"
     ]
    }
   ],
   "source": [
    "# 튜플은 수정, 삭제, 저장이 불가능\n",
    "del tuple5[2]"
   ]
  },
  {
   "cell_type": "markdown",
   "metadata": {},
   "source": [
    "in 과 not in\n",
    "\n",
    "- in : 문자열, 리스트, 튜플에 해당 값이 있으면 True\n",
    "- not in : 문자열, 리스트, 튜플에 해당 값이 없으면 True\n",
    "\n",
    "값 in 문자열/리스트/튜플명"
   ]
  },
  {
   "cell_type": "code",
   "execution_count": 20,
   "metadata": {},
   "outputs": [],
   "source": [
    "list6 = [\"Python\", \"python\", \"Java\", \"C\", \"C#\", \"홍길동\", \"사자\"]\n",
    "tuple2 = (1, 2, 3, 4)\n",
    "str1 = \"Python is easy\""
   ]
  },
  {
   "cell_type": "code",
   "execution_count": 21,
   "metadata": {},
   "outputs": [
    {
     "data": {
      "text/plain": [
       "True"
      ]
     },
     "execution_count": 21,
     "metadata": {},
     "output_type": "execute_result"
    }
   ],
   "source": [
    "\"Python\" in str1"
   ]
  },
  {
   "cell_type": "code",
   "execution_count": 24,
   "metadata": {},
   "outputs": [
    {
     "data": {
      "text/plain": [
       "True"
      ]
     },
     "execution_count": 24,
     "metadata": {},
     "output_type": "execute_result"
    }
   ],
   "source": [
    "\"Python\" not in tuple2"
   ]
  },
  {
   "cell_type": "code",
   "execution_count": 23,
   "metadata": {},
   "outputs": [
    {
     "data": {
      "text/plain": [
       "True"
      ]
     },
     "execution_count": 23,
     "metadata": {},
     "output_type": "execute_result"
    }
   ],
   "source": [
    "\"Python\" in list6"
   ]
  },
  {
   "cell_type": "markdown",
   "metadata": {},
   "source": [
    "list6에 사용자가 입력한 값이 있다면 해당 값이 있다고 출력하고 그렇지 않다면 없다고 출력"
   ]
  },
  {
   "cell_type": "code",
   "execution_count": 29,
   "metadata": {},
   "outputs": [
    {
     "name": "stdout",
     "output_type": "stream",
     "text": [
      "찾을 값을 입력하세요 >> Java\n",
      "리스트에 Java 있음\n"
     ]
    }
   ],
   "source": [
    "word = input(\"찾을 값을 입력하세요 >> \")\n",
    "\n",
    "if word in list6:\n",
    "    print(\"리스트에 {} 있음\".format(word))\n",
    "else:\n",
    "    print(\"리스트에 {} 없음\".format(word))"
   ]
  }
 ],
 "metadata": {
  "kernelspec": {
   "display_name": "Python 3",
   "language": "python",
   "name": "python3"
  },
  "language_info": {
   "codemirror_mode": {
    "name": "ipython",
    "version": 3
   },
   "file_extension": ".py",
   "mimetype": "text/x-python",
   "name": "python",
   "nbconvert_exporter": "python",
   "pygments_lexer": "ipython3",
   "version": "3.8.5"
  }
 },
 "nbformat": 4,
 "nbformat_minor": 4
}
