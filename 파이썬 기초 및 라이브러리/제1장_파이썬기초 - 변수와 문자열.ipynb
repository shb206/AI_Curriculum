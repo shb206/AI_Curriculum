{
 "cells": [
  {
   "cell_type": "code",
   "execution_count": 1,
   "metadata": {},
   "outputs": [
    {
     "data": {
      "text/plain": [
       "1"
      ]
     },
     "execution_count": 1,
     "metadata": {},
     "output_type": "execute_result"
    }
   ],
   "source": [
    "1"
   ]
  },
  {
   "cell_type": "code",
   "execution_count": 2,
   "metadata": {},
   "outputs": [
    {
     "data": {
      "text/plain": [
       "3"
      ]
     },
     "execution_count": 2,
     "metadata": {},
     "output_type": "execute_result"
    }
   ],
   "source": [
    "1+2"
   ]
  },
  {
   "cell_type": "markdown",
   "metadata": {},
   "source": [
    "여기는 텍스트를 편집하는 셀입니다\n",
    "\n",
    "- ctrl + Enter : 현재 셀 실행하고 그대로 있음\n",
    "- shift + Enter : 현재 셀 실행하고 다음 셀로 이동\n",
    "- alt + Enter : 현재 셀 실행하고 아래에 새로운 셀 만들고 이동"
   ]
  },
  {
   "cell_type": "markdown",
   "metadata": {},
   "source": [
    "#### Command mode의 단축키\n",
    "\n",
    "- Esc : Command mode로 전환\n",
    "- a : 위쪽에 cell 추가\n",
    "- b : 아래쪽에 cell 추가\n",
    "- m : code 창을 text 창으로 전환\n",
    "- y : text 창을 code 창으로 전환\n",
    "- dd : 현재 cell을 삭제"
   ]
  },
  {
   "cell_type": "markdown",
   "metadata": {},
   "source": [
    "텍스트 창입니다"
   ]
  },
  {
   "cell_type": "markdown",
   "metadata": {},
   "source": [
    "### 주석\n",
    "\n",
    "- 프로그램의 실행에 영향을 주지 않고 설명을 추가\n",
    "- \\# 다음에 주석을 작성"
   ]
  },
  {
   "cell_type": "code",
   "execution_count": 3,
   "metadata": {},
   "outputs": [
    {
     "data": {
      "text/plain": [
       "5"
      ]
     },
     "execution_count": 3,
     "metadata": {},
     "output_type": "execute_result"
    }
   ],
   "source": [
    "1 + 4   # +는 더하기 연산자"
   ]
  },
  {
   "cell_type": "markdown",
   "metadata": {},
   "source": [
    "### 변수\n",
    "\n",
    "- 필요할 때마다 값을 가져다 쓸 수 있도록 저장해 놓는 공간\n",
    "- 변수명 = 값"
   ]
  },
  {
   "cell_type": "code",
   "execution_count": 4,
   "metadata": {},
   "outputs": [],
   "source": [
    "a = 100"
   ]
  },
  {
   "cell_type": "code",
   "execution_count": 5,
   "metadata": {},
   "outputs": [
    {
     "data": {
      "text/plain": [
       "100"
      ]
     },
     "execution_count": 5,
     "metadata": {},
     "output_type": "execute_result"
    }
   ],
   "source": [
    "a"
   ]
  },
  {
   "cell_type": "code",
   "execution_count": 6,
   "metadata": {},
   "outputs": [],
   "source": [
    "b = 200"
   ]
  },
  {
   "cell_type": "code",
   "execution_count": 7,
   "metadata": {},
   "outputs": [
    {
     "data": {
      "text/plain": [
       "200"
      ]
     },
     "execution_count": 7,
     "metadata": {},
     "output_type": "execute_result"
    }
   ],
   "source": [
    "b"
   ]
  },
  {
   "cell_type": "code",
   "execution_count": 8,
   "metadata": {},
   "outputs": [
    {
     "data": {
      "text/plain": [
       "120"
      ]
     },
     "execution_count": 8,
     "metadata": {},
     "output_type": "execute_result"
    }
   ],
   "source": [
    "a + 20"
   ]
  },
  {
   "cell_type": "markdown",
   "metadata": {},
   "source": [
    "변수에는 정수, 실수, 문자, 논리 등을 저장할 수 있다"
   ]
  },
  {
   "cell_type": "code",
   "execution_count": 9,
   "metadata": {},
   "outputs": [],
   "source": [
    "c = 3.40\n",
    "d = \"Python\"\n",
    "e = True"
   ]
  },
  {
   "cell_type": "code",
   "execution_count": 10,
   "metadata": {},
   "outputs": [
    {
     "data": {
      "text/plain": [
       "3.4"
      ]
     },
     "execution_count": 10,
     "metadata": {},
     "output_type": "execute_result"
    }
   ],
   "source": [
    "c"
   ]
  },
  {
   "cell_type": "code",
   "execution_count": 11,
   "metadata": {},
   "outputs": [
    {
     "data": {
      "text/plain": [
       "'Python'"
      ]
     },
     "execution_count": 11,
     "metadata": {},
     "output_type": "execute_result"
    }
   ],
   "source": [
    "d"
   ]
  },
  {
   "cell_type": "code",
   "execution_count": 12,
   "metadata": {},
   "outputs": [
    {
     "data": {
      "text/plain": [
       "True"
      ]
     },
     "execution_count": 12,
     "metadata": {},
     "output_type": "execute_result"
    }
   ],
   "source": [
    "e"
   ]
  },
  {
   "cell_type": "markdown",
   "metadata": {},
   "source": [
    "name 변수에 이름, iq 라는 변수에 아이큐를 저장"
   ]
  },
  {
   "cell_type": "code",
   "execution_count": 13,
   "metadata": {},
   "outputs": [],
   "source": [
    "name = \"신현빈\"\n",
    "iq = 120"
   ]
  },
  {
   "cell_type": "code",
   "execution_count": 14,
   "metadata": {},
   "outputs": [
    {
     "data": {
      "text/plain": [
       "'신현빈'"
      ]
     },
     "execution_count": 14,
     "metadata": {},
     "output_type": "execute_result"
    }
   ],
   "source": [
    "name"
   ]
  },
  {
   "cell_type": "code",
   "execution_count": 15,
   "metadata": {},
   "outputs": [
    {
     "data": {
      "text/plain": [
       "120"
      ]
     },
     "execution_count": 15,
     "metadata": {},
     "output_type": "execute_result"
    }
   ],
   "source": [
    "iq"
   ]
  },
  {
   "cell_type": "markdown",
   "metadata": {},
   "source": [
    "출력문 : print() 함수\n",
    "- () 안의 내용을 출력하는 기능을 함\n",
    "- () 안에는 값이나 변수를 사용할 수 있음"
   ]
  },
  {
   "cell_type": "code",
   "execution_count": 16,
   "metadata": {},
   "outputs": [
    {
     "name": "stdout",
     "output_type": "stream",
     "text": [
      "100\n"
     ]
    }
   ],
   "source": [
    "print(100)"
   ]
  },
  {
   "cell_type": "code",
   "execution_count": 17,
   "metadata": {},
   "outputs": [
    {
     "name": "stdout",
     "output_type": "stream",
     "text": [
      "홍길동\n"
     ]
    }
   ],
   "source": [
    "print(\"홍길동\")"
   ]
  },
  {
   "cell_type": "code",
   "execution_count": 18,
   "metadata": {},
   "outputs": [
    {
     "name": "stdout",
     "output_type": "stream",
     "text": [
      "100\n"
     ]
    }
   ],
   "source": [
    "print(a)"
   ]
  },
  {
   "cell_type": "code",
   "execution_count": 19,
   "metadata": {},
   "outputs": [
    {
     "name": "stdout",
     "output_type": "stream",
     "text": [
      "120\n"
     ]
    }
   ],
   "source": [
    "print(a + 20)"
   ]
  },
  {
   "cell_type": "code",
   "execution_count": 20,
   "metadata": {},
   "outputs": [
    {
     "name": "stdout",
     "output_type": "stream",
     "text": [
      "100 홍길동\n"
     ]
    }
   ],
   "source": [
    "# 여러 값을 출력한다면 컴마(,)로 구분\n",
    "print(100, \"홍길동\")"
   ]
  },
  {
   "cell_type": "code",
   "execution_count": 21,
   "metadata": {},
   "outputs": [
    {
     "name": "stdout",
     "output_type": "stream",
     "text": [
      "100 홍길동\n"
     ]
    }
   ],
   "source": [
    "print(a, \"홍길동\")"
   ]
  },
  {
   "cell_type": "code",
   "execution_count": 22,
   "metadata": {},
   "outputs": [
    {
     "name": "stdout",
     "output_type": "stream",
     "text": [
      "100 200\n"
     ]
    }
   ],
   "source": [
    "print(a, b)"
   ]
  },
  {
   "cell_type": "markdown",
   "metadata": {},
   "source": [
    "name에 \"홍길동을 저장하고 age에 20을 저장한 후에 \"홍길동 : 20\"과 같이 출력"
   ]
  },
  {
   "cell_type": "code",
   "execution_count": 23,
   "metadata": {},
   "outputs": [
    {
     "name": "stdout",
     "output_type": "stream",
     "text": [
      "홍길동 : 20\n"
     ]
    }
   ],
   "source": [
    "name = \"홍길동\"\n",
    "age = 20\n",
    "print(name, \":\", age)"
   ]
  },
  {
   "cell_type": "code",
   "execution_count": 24,
   "metadata": {},
   "outputs": [
    {
     "data": {
      "text/plain": [
       "(3.1425, 1.25, 3.0)"
      ]
     },
     "execution_count": 24,
     "metadata": {},
     "output_type": "execute_result"
    }
   ],
   "source": [
    "num4 = 3.1425\n",
    "num5 = 1.25\n",
    "num6 = 3.0\n",
    "\n",
    "num4, num5, num6"
   ]
  },
  {
   "cell_type": "markdown",
   "metadata": {},
   "source": [
    "문자 \"Hello World\"를 쌍따옴표를 서서 str1 변수에 외따옴표를 써서 str2에 저장하고 출력"
   ]
  },
  {
   "cell_type": "code",
   "execution_count": 25,
   "metadata": {},
   "outputs": [
    {
     "name": "stdout",
     "output_type": "stream",
     "text": [
      "Hello World      Hello World\n"
     ]
    }
   ],
   "source": [
    "str1 = \"Hello World\"\n",
    "str2 = 'Hello World'\n",
    "\n",
    "str1, str2\n",
    "print(str1, \"    \", str2)"
   ]
  },
  {
   "cell_type": "markdown",
   "metadata": {},
   "source": [
    "### 변수명 작성 규칙\n",
    "\n",
    "- (1) 변수명은 영문자, 숫자, _ 만을 사용할 수 있다\n",
    "- (2) 영문자는 대소문자를 구별한다\n",
    "- (3) 첫 번째 문자는 숫자가 올 수 없다\n",
    "- (4) 특수문자(\\#, $, / 등)은 쓸 수 없다\n",
    "- (5) 명령어를 변수명으로 사용할 수 없다"
   ]
  },
  {
   "cell_type": "markdown",
   "metadata": {},
   "source": [
    "#### 변수명 작성 시 권장사항\n",
    "\n",
    "- (6) 변수명은 가능한한 의미를 알 수 있도록 작성한다\n",
    "- (7) 두 개 단어 이상으로 구성된 변수명은 _ 나 두 번째 단어의 첫 단어를 대문자를 사용하여 구분\n",
    "- (8) 한 단어로 구성된 변수명은 가능한 한 소문자를 사용한다"
   ]
  },
  {
   "cell_type": "code",
   "execution_count": 26,
   "metadata": {},
   "outputs": [
    {
     "data": {
      "text/plain": [
       "(10, 20, 30)"
      ]
     },
     "execution_count": 26,
     "metadata": {},
     "output_type": "execute_result"
    }
   ],
   "source": [
    "# (1) 변수명은 영문자, 숫자, _ 만을 사용할 수 있다\n",
    "a = 10\n",
    "a1 = 20\n",
    "a_ = 30\n",
    "\n",
    "a, a1, a_"
   ]
  },
  {
   "cell_type": "code",
   "execution_count": 27,
   "metadata": {},
   "outputs": [
    {
     "ename": "SyntaxError",
     "evalue": "invalid syntax (<ipython-input-27-585742a1df5b>, line 1)",
     "output_type": "error",
     "traceback": [
      "\u001b[1;36m  File \u001b[1;32m\"<ipython-input-27-585742a1df5b>\"\u001b[1;36m, line \u001b[1;32m1\u001b[0m\n\u001b[1;33m    (4) 특수문자(#, $, / 등)은 쓸 수 없다\u001b[0m\n\u001b[1;37m        ^\u001b[0m\n\u001b[1;31mSyntaxError\u001b[0m\u001b[1;31m:\u001b[0m invalid syntax\n"
     ]
    }
   ],
   "source": [
    "(4) 특수문자(#, $, / 등)은 쓸 수 없다\n",
    "$a = 10"
   ]
  },
  {
   "cell_type": "code",
   "execution_count": 28,
   "metadata": {},
   "outputs": [
    {
     "ename": "NameError",
     "evalue": "name 'Num' is not defined",
     "output_type": "error",
     "traceback": [
      "\u001b[1;31m---------------------------------------------------------------------------\u001b[0m",
      "\u001b[1;31mNameError\u001b[0m                                 Traceback (most recent call last)",
      "\u001b[1;32m<ipython-input-28-0c1cd42b8bfc>\u001b[0m in \u001b[0;36m<module>\u001b[1;34m\u001b[0m\n\u001b[0;32m      2\u001b[0m \u001b[0mnum\u001b[0m \u001b[1;33m=\u001b[0m \u001b[1;36m100\u001b[0m\u001b[1;33m\u001b[0m\u001b[1;33m\u001b[0m\u001b[0m\n\u001b[0;32m      3\u001b[0m \u001b[1;33m\u001b[0m\u001b[0m\n\u001b[1;32m----> 4\u001b[1;33m \u001b[0mNum\u001b[0m\u001b[1;33m\u001b[0m\u001b[1;33m\u001b[0m\u001b[0m\n\u001b[0m",
      "\u001b[1;31mNameError\u001b[0m: name 'Num' is not defined"
     ]
    }
   ],
   "source": [
    "# (2) 영문자는 대소문자를 구별한다\n",
    "num = 100\n",
    "\n",
    "Num"
   ]
  },
  {
   "cell_type": "code",
   "execution_count": 29,
   "metadata": {},
   "outputs": [
    {
     "ename": "SyntaxError",
     "evalue": "invalid syntax (<ipython-input-29-710bb57b032b>, line 2)",
     "output_type": "error",
     "traceback": [
      "\u001b[1;36m  File \u001b[1;32m\"<ipython-input-29-710bb57b032b>\"\u001b[1;36m, line \u001b[1;32m2\u001b[0m\n\u001b[1;33m    1a = 20\u001b[0m\n\u001b[1;37m     ^\u001b[0m\n\u001b[1;31mSyntaxError\u001b[0m\u001b[1;31m:\u001b[0m invalid syntax\n"
     ]
    }
   ],
   "source": [
    "# (3) 첫 번째 문자는 숫자가 올 수 없다\n",
    "1a = 20"
   ]
  },
  {
   "cell_type": "code",
   "execution_count": null,
   "metadata": {},
   "outputs": [],
   "source": [
    "# (5) 명령어를 변수명으로 사용할 수 없다\n",
    "# print = 20\n",
    "# print"
   ]
  },
  {
   "cell_type": "code",
   "execution_count": 30,
   "metadata": {},
   "outputs": [
    {
     "name": "stdout",
     "output_type": "stream",
     "text": [
      "100\n"
     ]
    }
   ],
   "source": [
    "print(100) # 변수명으로 사용된 명령어(함수)는 사용할 수 없게 된다"
   ]
  },
  {
   "cell_type": "code",
   "execution_count": 33,
   "metadata": {},
   "outputs": [],
   "source": [
    "# (6) 변수명은 가능한한 의미를 알 수 있도록 작성한다\n",
    "a = 30 # 이것보다는"
   ]
  },
  {
   "cell_type": "code",
   "execution_count": 34,
   "metadata": {},
   "outputs": [],
   "source": [
    "age = 30 # 이것이 바람직함"
   ]
  },
  {
   "cell_type": "code",
   "execution_count": 35,
   "metadata": {},
   "outputs": [],
   "source": [
    "# (7) 두 개 단어 이상으로 구성된 변수명은 _ 나 두 번째 단어의 첫 단어를 대문자를 사용하여 구분\n",
    "chapternumber = 5 # 이것보다는"
   ]
  },
  {
   "cell_type": "code",
   "execution_count": null,
   "metadata": {},
   "outputs": [],
   "source": [
    "chapter_number = 5\n",
    "chapterNumber = 5 # 이것들이 바람직함"
   ]
  },
  {
   "cell_type": "code",
   "execution_count": 36,
   "metadata": {},
   "outputs": [],
   "source": [
    "# (8) 한 단어로 구성된 변수명은 가능한 한 소문자를 사용한다\n",
    "Num = 10 # 이것보다는"
   ]
  },
  {
   "cell_type": "code",
   "execution_count": 37,
   "metadata": {},
   "outputs": [],
   "source": [
    "num = 10 # 이것이 바람직함\n",
    "# 첫 글자가 대문자인 것은 주로 모듈, 클래스, 패키지 등에 사용됨"
   ]
  },
  {
   "cell_type": "markdown",
   "metadata": {},
   "source": [
    "str1에 \"홍길동\", str2에 \"의적\"을 =을 하나만 써서 저장"
   ]
  },
  {
   "cell_type": "code",
   "execution_count": 39,
   "metadata": {},
   "outputs": [
    {
     "data": {
      "text/plain": [
       "('홍길동', '의적')"
      ]
     },
     "execution_count": 39,
     "metadata": {},
     "output_type": "execute_result"
    }
   ],
   "source": [
    "str1, str2 = \"홍길동\", \"의적\"\n",
    "str1, str2"
   ]
  },
  {
   "cell_type": "code",
   "execution_count": null,
   "metadata": {},
   "outputs": [],
   "source": [
    "# a1, a2, a3에 100을 저장\n",
    "\n",
    "a1 = 100\n",
    "a2 = 100\n",
    "a3 = 100"
   ]
  },
  {
   "cell_type": "code",
   "execution_count": 40,
   "metadata": {},
   "outputs": [
    {
     "data": {
      "text/plain": [
       "(200, 200, 200)"
      ]
     },
     "execution_count": 40,
     "metadata": {},
     "output_type": "execute_result"
    }
   ],
   "source": [
    "a1 = a2 = a3 = 200\n",
    "a1, a2, a3"
   ]
  },
  {
   "cell_type": "markdown",
   "metadata": {},
   "source": [
    "- 변수 x에 10을 저장, 변수 y에 20을 저장\n",
    "- 변수 sum에 x와 y의 합을 저장\n",
    "- print() 함수로 sum을 출력"
   ]
  },
  {
   "cell_type": "code",
   "execution_count": 42,
   "metadata": {},
   "outputs": [
    {
     "name": "stdout",
     "output_type": "stream",
     "text": [
      "sum =  30\n"
     ]
    }
   ],
   "source": [
    "x = 10\n",
    "y = 20\n",
    "sum = x + y\n",
    "print(\"sum = \", sum)"
   ]
  },
  {
   "cell_type": "code",
   "execution_count": 43,
   "metadata": {},
   "outputs": [
    {
     "ename": "SyntaxError",
     "evalue": "invalid syntax (<ipython-input-43-66edf98ea352>, line 1)",
     "output_type": "error",
     "traceback": [
      "\u001b[1;36m  File \u001b[1;32m\"<ipython-input-43-66edf98ea352>\"\u001b[1;36m, line \u001b[1;32m1\u001b[0m\n\u001b[1;33m    print('she's gone')\u001b[0m\n\u001b[1;37m               ^\u001b[0m\n\u001b[1;31mSyntaxError\u001b[0m\u001b[1;31m:\u001b[0m invalid syntax\n"
     ]
    }
   ],
   "source": [
    "print('she's gone')"
   ]
  },
  {
   "cell_type": "code",
   "execution_count": 44,
   "metadata": {},
   "outputs": [
    {
     "data": {
      "text/plain": [
       "\"she's gone\""
      ]
     },
     "execution_count": 44,
     "metadata": {},
     "output_type": "execute_result"
    }
   ],
   "source": [
    "# 문자 내부에 외따옴표나 쌍따옴표가 있는 경우\n",
    "# - 문자열을 같은 따옴표로 묶어주면 안됨\n",
    "\n",
    "str = \"she's gone\"\n",
    "str"
   ]
  },
  {
   "cell_type": "code",
   "execution_count": 48,
   "metadata": {},
   "outputs": [
    {
     "name": "stdout",
     "output_type": "stream",
     "text": [
      "She's said \"hoho\"\n"
     ]
    }
   ],
   "source": [
    "# 만약 문자열 내에 외따옴표와 쌍따옴표가 전부 있는 경우\n",
    "# 특수문자를 문자열 안에 포함시키고자하는 경우에는 앞에 \\를 붙여 사용한다\n",
    "str3 = \"She\\'s said \\\"hoho\\\"\"\n",
    "print(str3)"
   ]
  },
  {
   "cell_type": "markdown",
   "metadata": {},
   "source": [
    "#### 변수에 여러 줄의 문자를 넣을 경우"
   ]
  },
  {
   "cell_type": "code",
   "execution_count": 49,
   "metadata": {},
   "outputs": [
    {
     "ename": "SyntaxError",
     "evalue": "EOL while scanning string literal (<ipython-input-49-bb21f980414c>, line 1)",
     "output_type": "error",
     "traceback": [
      "\u001b[1;36m  File \u001b[1;32m\"<ipython-input-49-bb21f980414c>\"\u001b[1;36m, line \u001b[1;32m1\u001b[0m\n\u001b[1;33m    str5 = \"안녕하세요\u001b[0m\n\u001b[1;37m                 ^\u001b[0m\n\u001b[1;31mSyntaxError\u001b[0m\u001b[1;31m:\u001b[0m EOL while scanning string literal\n"
     ]
    }
   ],
   "source": [
    "str5 = \"안녕하세요\n",
    "반갑습니다\""
   ]
  },
  {
   "cell_type": "code",
   "execution_count": 50,
   "metadata": {},
   "outputs": [
    {
     "name": "stdout",
     "output_type": "stream",
     "text": [
      "안녕하세요\n",
      "반갑습니다\n"
     ]
    }
   ],
   "source": [
    "# \\n : 줄 넘김 문자\n",
    "str6 = \"안녕하세요\\n반갑습니다\"\n",
    "print(str6)"
   ]
  },
  {
   "cell_type": "code",
   "execution_count": 54,
   "metadata": {},
   "outputs": [
    {
     "name": "stdout",
     "output_type": "stream",
     "text": [
      "이름 :  홍길동 \n",
      "나이 :  30 \n",
      "직업 :  의적\n"
     ]
    }
   ],
   "source": [
    "name = \"홍길동\"\n",
    "age = 30\n",
    "job = \"의적\"\n",
    "\n",
    "# print() 한 개를 사용하여 아래처럼 출력\n",
    "# 이름 : 홍길동\n",
    "# 나이 : 30\n",
    "# 직업 : 의적\n",
    "\n",
    "print(\"이름 : \", name, \"\\n나이 : \", age, \"\\n직업 : \", job)"
   ]
  },
  {
   "cell_type": "code",
   "execution_count": 56,
   "metadata": {},
   "outputs": [
    {
     "name": "stdout",
     "output_type": "stream",
     "text": [
      "홍길동\t 20\n",
      "홍길\t 20\n",
      "홍\t 20\n"
     ]
    }
   ],
   "source": [
    "# \\t : 탭 간격만큼 띄우는 기능\n",
    "print(\"홍길동\\t\", \"20\")\n",
    "print(\"홍길\\t\", \"20\")\n",
    "print(\"홍\\t\", \"20\")"
   ]
  },
  {
   "cell_type": "code",
   "execution_count": 62,
   "metadata": {},
   "outputs": [
    {
     "name": "stdout",
     "output_type": "stream",
     "text": [
      "이름\t 나이\t 직업\n",
      "=====================\n",
      "홍길동 \t 30 \t 의적\n"
     ]
    }
   ],
   "source": [
    "print(\"이름\\t\", \"나이\\t\", \"직업\")\n",
    "print(\"=====================\")\n",
    "print(name, \"\\t\", age,\"\\t\", job)"
   ]
  },
  {
   "cell_type": "markdown",
   "metadata": {},
   "source": [
    "변수에 여러 줄의 문자열을 저장하는 방법 2\n",
    "\n",
    "- '''내용''' 또는 \"\"\"내용\"\"\""
   ]
  },
  {
   "cell_type": "code",
   "execution_count": 64,
   "metadata": {},
   "outputs": [
    {
     "name": "stdout",
     "output_type": "stream",
     "text": [
      "안녕하세요\n",
      "파이썬 수업중입니다\n"
     ]
    }
   ],
   "source": [
    "str5 = '''안녕하세요\n",
    "파이썬 수업중입니다'''\n",
    "print(str5)"
   ]
  },
  {
   "cell_type": "code",
   "execution_count": 65,
   "metadata": {},
   "outputs": [
    {
     "name": "stdout",
     "output_type": "stream",
     "text": [
      "안녕하세요\n",
      "파이썬 수업중입니다\n"
     ]
    }
   ],
   "source": [
    "str6 = \"\"\"안녕하세요\n",
    "파이썬 수업중입니다\"\"\"\n",
    "print(str5)"
   ]
  },
  {
   "cell_type": "markdown",
   "metadata": {},
   "source": [
    "### indexing과 slicing\n",
    "\n",
    "- indexing : 해당 인덱스(번호, 메모리 주소)의 값을 가져오는 것\n",
    "- slicing : 해당 시작 인덱스와 끝 인덱스 사이의 값을 가져오는 것"
   ]
  },
  {
   "cell_type": "code",
   "execution_count": 66,
   "metadata": {},
   "outputs": [],
   "source": [
    "#index:01234567890123456789012345    (왼쪽 인덱스)\n",
    "str = \"Python is easy and simple.\"\n",
    "#index:65432109876543210987654321    (오른쪽 인덱스)"
   ]
  },
  {
   "cell_type": "code",
   "execution_count": 68,
   "metadata": {},
   "outputs": [
    {
     "name": "stdout",
     "output_type": "stream",
     "text": [
      "y\n",
      "y\n"
     ]
    }
   ],
   "source": [
    "# 인덱스 값은 대괄호를 사용하여 설정\n",
    "print(str[13])\n",
    "print(str[-13])"
   ]
  },
  {
   "cell_type": "code",
   "execution_count": 69,
   "metadata": {},
   "outputs": [
    {
     "name": "stdout",
     "output_type": "stream",
     "text": [
      "d\n"
     ]
    }
   ],
   "source": [
    "print(str[17])"
   ]
  },
  {
   "cell_type": "markdown",
   "metadata": {},
   "source": [
    "slicing\n",
    "\n",
    "[시작인덱스 : 끝인덱스 + 1]"
   ]
  },
  {
   "cell_type": "code",
   "execution_count": null,
   "metadata": {},
   "outputs": [],
   "source": [
    "#index:01234567890123456789012345    (왼쪽 인덱스)\n",
    "str = \"Python is easy and simple.\"\n",
    "#index:65432109876543210987654321    (오른쪽 인덱스)"
   ]
  },
  {
   "cell_type": "code",
   "execution_count": 70,
   "metadata": {},
   "outputs": [
    {
     "name": "stdout",
     "output_type": "stream",
     "text": [
      "is\n"
     ]
    }
   ],
   "source": [
    "print(str[7:9])"
   ]
  },
  {
   "cell_type": "code",
   "execution_count": 73,
   "metadata": {},
   "outputs": [
    {
     "name": "stdout",
     "output_type": "stream",
     "text": [
      "and\n",
      "and\n"
     ]
    }
   ],
   "source": [
    "print(str[15:18])\n",
    "print(str[-11:-8])"
   ]
  },
  {
   "cell_type": "markdown",
   "metadata": {},
   "source": [
    "생략된 slicing"
   ]
  },
  {
   "cell_type": "code",
   "execution_count": 75,
   "metadata": {},
   "outputs": [
    {
     "name": "stdout",
     "output_type": "stream",
     "text": [
      "Python\n",
      "Python\n"
     ]
    }
   ],
   "source": [
    "# (1) 시작 인덱스를 생락하면 인덱스 0부터 시작\n",
    "print(str[0:6])\n",
    "print(str[:6])"
   ]
  },
  {
   "cell_type": "code",
   "execution_count": 83,
   "metadata": {},
   "outputs": [
    {
     "name": "stdout",
     "output_type": "stream",
     "text": [
      "simple.\n",
      "simple.\n",
      "\n",
      "simple.\n"
     ]
    }
   ],
   "source": [
    "# (2) 끝 인덱스를 생략하면 끝 인덱스까지 가져옴\n",
    "# simple. 을 출력\n",
    "print(str[19:26])\n",
    "print(str[19:])\n",
    "print(str[-7:0]) # 0은 맨 처음 인덱스로 인식하여 문제가 생김\n",
    "print(str[-7:])"
   ]
  },
  {
   "cell_type": "code",
   "execution_count": 84,
   "metadata": {},
   "outputs": [
    {
     "name": "stdout",
     "output_type": "stream",
     "text": [
      "Python is easy and simple.\n"
     ]
    }
   ],
   "source": [
    "# (3) 시작 인덱스와 끝 인덱스를 생략하면 전체 값을 가져옴\n",
    "print(str[:])"
   ]
  },
  {
   "cell_type": "markdown",
   "metadata": {},
   "source": [
    "[문제] 다음과 같은 문자가 저장되어 있을 때\n",
    "\n",
    "    str_info = \"20200706Sunny\"\n",
    "    \n",
    "아래와 같이 출력하도록 해보세요\n",
    "\n",
    "년도 : 2020년 <br>\n",
    "월일 : 07월 06일 <br>\n",
    "날씨 : Sunny <br>"
   ]
  },
  {
   "cell_type": "code",
   "execution_count": 89,
   "metadata": {},
   "outputs": [
    {
     "name": "stdout",
     "output_type": "stream",
     "text": [
      "년도 : 2020 년\n",
      "월일 : 07 월 06 일\n",
      "날씨 : Sunny\n"
     ]
    }
   ],
   "source": [
    "str_info = \"20200706Sunny\"\n",
    "\n",
    "print(\"년도 :\", str_info[:4], \"년\")\n",
    "print(\"월일 :\", str_info[4:6], \"월\", str_info[6:8], \"일\")\n",
    "print(\"날씨 :\", str_info[-5:])"
   ]
  },
  {
   "cell_type": "markdown",
   "metadata": {},
   "source": [
    "### 문자열 포맷팅 (Formatting)\n",
    "\n",
    "- 출력 형식을 지정해서 값을 출력하는 것"
   ]
  },
  {
   "cell_type": "code",
   "execution_count": 90,
   "metadata": {},
   "outputs": [],
   "source": [
    "s = \"오늘은 12월 30일입니다\""
   ]
  },
  {
   "cell_type": "code",
   "execution_count": 92,
   "metadata": {},
   "outputs": [
    {
     "data": {
      "text/plain": [
       "'오늘은 12월 31일입니다'"
      ]
     },
     "execution_count": 92,
     "metadata": {},
     "output_type": "execute_result"
    }
   ],
   "source": [
    "# 오늘은 12월 31일입니다 라고 출력하려면\n",
    "\n",
    "day = 31\n",
    "\n",
    "# %d : 정수형(decimal)\n",
    "# %f : 실수형(float)\n",
    "# %c : 문자 1개 (character)\n",
    "# %s : 문자열 (string)\n",
    "s = \"오늘은 12월 %d일입니다\"%day\n",
    "s"
   ]
  },
  {
   "cell_type": "code",
   "execution_count": 93,
   "metadata": {},
   "outputs": [
    {
     "data": {
      "text/plain": [
       "'오늘은 1월 1일입니다'"
      ]
     },
     "execution_count": 93,
     "metadata": {},
     "output_type": "execute_result"
    }
   ],
   "source": [
    "# 오늘은 1월 1일입니다\n",
    "\n",
    "month = 1\n",
    "day = 1\n",
    "\n",
    "s = \"오늘은 %d월 %d일입니다\"%(month, day)\n",
    "s"
   ]
  },
  {
   "cell_type": "markdown",
   "metadata": {},
   "source": [
    "[문제]\n",
    "\n",
    "s = \"12월 30일 날씨는 눈이고 온도는 10.5도입니다\"\n",
    "\n",
    "month = 1 <br>\n",
    "day = 1 <br>\n",
    "weather = \"맑음\" <br>\n",
    "temp = 12.3 <br>\n",
    "\n",
    "1월 1일 날씨는 맑음이고 온도는 12.3도입니다"
   ]
  },
  {
   "cell_type": "code",
   "execution_count": 95,
   "metadata": {},
   "outputs": [
    {
     "name": "stdout",
     "output_type": "stream",
     "text": [
      "1월 1일 날씨는 맑음이고 온도는 12.3입니다\n"
     ]
    }
   ],
   "source": [
    "s = \"12월 30일 날씨는 눈이고 온도는 10.5도입니다\"\n",
    "\n",
    "month = 1\n",
    "day = 1\n",
    "weather = \"맑음\"\n",
    "temp = 12.3\n",
    "\n",
    "# %.1f : 소수점 첫 째자리까지만 출력\n",
    "s = \"%d월 %d일 날씨는 %s이고 온도는 %.1f입니다\"%(month, day, weather, temp)\n",
    "\n",
    "print(s)"
   ]
  },
  {
   "cell_type": "code",
   "execution_count": 28,
   "metadata": {},
   "outputs": [
    {
     "ename": "NameError",
     "evalue": "name 'month' is not defined",
     "output_type": "error",
     "traceback": [
      "\u001b[1;31m---------------------------------------------------------------------------\u001b[0m",
      "\u001b[1;31mNameError\u001b[0m                                 Traceback (most recent call last)",
      "\u001b[1;32m<ipython-input-28-5bfbac4b8e3d>\u001b[0m in \u001b[0;36m<module>\u001b[1;34m\u001b[0m\n\u001b[0;32m      4\u001b[0m \u001b[1;31m# format() 함수에 순서대로 값을 지정\u001b[0m\u001b[1;33m\u001b[0m\u001b[1;33m\u001b[0m\u001b[1;33m\u001b[0m\u001b[0m\n\u001b[0;32m      5\u001b[0m \u001b[1;33m\u001b[0m\u001b[0m\n\u001b[1;32m----> 6\u001b[1;33m \u001b[0ms\u001b[0m \u001b[1;33m=\u001b[0m \u001b[1;34m\"{}월 {}일 날씨는 {}이고 온도는 {}도입니다\"\u001b[0m\u001b[1;33m.\u001b[0m\u001b[0mformat\u001b[0m\u001b[1;33m(\u001b[0m\u001b[0mmonth\u001b[0m\u001b[1;33m,\u001b[0m \u001b[0mday\u001b[0m\u001b[1;33m,\u001b[0m \u001b[0mweather\u001b[0m\u001b[1;33m,\u001b[0m \u001b[0mtemp\u001b[0m\u001b[1;33m)\u001b[0m\u001b[1;33m\u001b[0m\u001b[1;33m\u001b[0m\u001b[0m\n\u001b[0m\u001b[0;32m      7\u001b[0m \u001b[0mprint\u001b[0m\u001b[1;33m(\u001b[0m\u001b[0ms\u001b[0m\u001b[1;33m)\u001b[0m\u001b[1;33m\u001b[0m\u001b[1;33m\u001b[0m\u001b[0m\n",
      "\u001b[1;31mNameError\u001b[0m: name 'month' is not defined"
     ]
    }
   ],
   "source": [
    "# format()를 이용해서 출력형식을 지정\n",
    "# 장점 : 타입을 지정하지 않아도 됨\n",
    "# 값을 출력할 위치에 {}를 표시\n",
    "# format() 함수에 순서대로 값을 지정\n",
    "\n",
    "s = \"{}월 {}일 날씨는 {}이고 온도는 {}도입니다\".format(month, day, weather, temp)\n",
    "print(s)"
   ]
  },
  {
   "cell_type": "code",
   "execution_count": 47,
   "metadata": {},
   "outputs": [
    {
     "name": "stdout",
     "output_type": "stream",
     "text": [
      "캐릭터 정보\n",
      "==========================================\n",
      "항목\t\t 캐릭터1\t 캐릭터2\n",
      "------------------------------------------\n",
      "이름\t\t 홍길동 \t 캔디\n",
      "레벨\t\t 50 \t\t 49\n",
      "경험치\t\t 25.80%\t\t 87.20%\n",
      "직업\t\t 도적 \t\t 마법사\n",
      "------------------------------------------\n",
      "\n",
      "캐릭터 레벨의 합은 99입니다.\n"
     ]
    }
   ],
   "source": [
    "str1 = \"'홍길동' 캐릭터의 레벨은 50이며 현재 경험지는 25.8입니다. 직업은 도적입니다.\"\n",
    "str2 = \"'캔디' 캐릭터의 레벨은 49이며 현재 경험치는 87.2입니다. 직업은 마법사입니다.\"\n",
    "\n",
    "print(\"캐릭터 정보\")\n",
    "print(\"==========================================\")\n",
    "print(\"항목\\t\\t\", \"캐릭터1\\t\", \"캐릭터2\")\n",
    "print(\"------------------------------------------\")\n",
    "print(\"이름\\t\\t\", str1[1:4], \"\\t\", str2[1:3])\n",
    "print(\"레벨\\t\\t\", str1[15:17], \"\\t\\t\", str2[14:16])\n",
    "print(\"경험치\\t\\t\", str1[28:32]+\"0%\\t\\t\", str2[27:31]+\"0%\")\n",
    "print(\"직업\\t\\t\", str1[41:43], \"\\t\\t\", str2[40:43])\n",
    "print(\"------------------------------------------\\n\")\n",
    "print(\"캐릭터 레벨의 합은 %d입니다.\"%(int(str1[15:17])+int(str2[14:16])))"
   ]
  },
  {
   "cell_type": "markdown",
   "metadata": {},
   "source": [
    "### 문자열 함수 "
   ]
  },
  {
   "cell_type": "code",
   "execution_count": 57,
   "metadata": {},
   "outputs": [],
   "source": [
    "str1 = \"Python is easy and simple\"\n",
    "str2 = \"Python은 쉽고 Python은 단순한 언어입니다\""
   ]
  },
  {
   "cell_type": "markdown",
   "metadata": {},
   "source": [
    "len() : 문자열의 길이 (문자열 속에 포함된 문자의 수) 반환"
   ]
  },
  {
   "cell_type": "code",
   "execution_count": 53,
   "metadata": {},
   "outputs": [
    {
     "name": "stdout",
     "output_type": "stream",
     "text": [
      "str1의 길이 :  25\n",
      "str2의 길이 :  20\n"
     ]
    }
   ],
   "source": [
    "print(\"str1의 길이 : \", len(str1))\n",
    "print(\"str2의 길이 : \", len(str2))"
   ]
  },
  {
   "cell_type": "markdown",
   "metadata": {},
   "source": [
    "count(\"문자\") : 문자열에 포함된 해당 문자의 수를 셈"
   ]
  },
  {
   "cell_type": "code",
   "execution_count": 58,
   "metadata": {},
   "outputs": [
    {
     "name": "stdout",
     "output_type": "stream",
     "text": [
      "str1에 포함된 i의 갯수 :  2\n",
      "str2에 포함된 '은'의 갯수 :  2\n"
     ]
    }
   ],
   "source": [
    "print(\"str1에 포함된 i의 갯수 : \", str1.count(\"i\"))\n",
    "print(\"str2에 포함된 '은'의 갯수 : \", str2.count(\"은\"))"
   ]
  },
  {
   "cell_type": "markdown",
   "metadata": {},
   "source": [
    "- index(\"문자\") : 문자열에서 해당 문자열의 위치를 반환, 단 문자열 내에 해당 문자열이 없을 경우 에러\n",
    "- find(\"문자\") : 문자열에서 해당 문자열의 위치를 반환, 단 문자열 내에 해당 문자열이 없을 경우 -1 반환"
   ]
  },
  {
   "cell_type": "code",
   "execution_count": 70,
   "metadata": {},
   "outputs": [
    {
     "name": "stdout",
     "output_type": "stream",
     "text": [
      "str1에서 e의 위치 :  10\n",
      "str1에서 e의 위치 :  10\n"
     ]
    }
   ],
   "source": [
    "print(\"str1에서 e의 위치 : \", str1.index(\"e\"))\n",
    "print(\"str1에서 e의 위치 : \", str1.find(\"e\"))"
   ]
  },
  {
   "cell_type": "code",
   "execution_count": 66,
   "metadata": {},
   "outputs": [
    {
     "name": "stdout",
     "output_type": "stream",
     "text": [
      "str2에서 e의 위치 :  -1\n"
     ]
    },
    {
     "ename": "ValueError",
     "evalue": "substring not found",
     "output_type": "error",
     "traceback": [
      "\u001b[1;31m---------------------------------------------------------------------------\u001b[0m",
      "\u001b[1;31mValueError\u001b[0m                                Traceback (most recent call last)",
      "\u001b[1;32m<ipython-input-66-368877b12d38>\u001b[0m in \u001b[0;36m<module>\u001b[1;34m\u001b[0m\n\u001b[0;32m      1\u001b[0m \u001b[0mprint\u001b[0m\u001b[1;33m(\u001b[0m\u001b[1;34m\"str2에서 e의 위치 : \"\u001b[0m\u001b[1;33m,\u001b[0m \u001b[0mstr2\u001b[0m\u001b[1;33m.\u001b[0m\u001b[0mfind\u001b[0m\u001b[1;33m(\u001b[0m\u001b[1;34m\"e\"\u001b[0m\u001b[1;33m)\u001b[0m\u001b[1;33m)\u001b[0m\u001b[1;33m\u001b[0m\u001b[1;33m\u001b[0m\u001b[0m\n\u001b[1;32m----> 2\u001b[1;33m \u001b[0mprint\u001b[0m\u001b[1;33m(\u001b[0m\u001b[1;34m\"str2에서 e의 위치 : \"\u001b[0m\u001b[1;33m,\u001b[0m \u001b[0mstr2\u001b[0m\u001b[1;33m.\u001b[0m\u001b[0mindex\u001b[0m\u001b[1;33m(\u001b[0m\u001b[1;34m\"e\"\u001b[0m\u001b[1;33m)\u001b[0m\u001b[1;33m)\u001b[0m\u001b[1;33m\u001b[0m\u001b[1;33m\u001b[0m\u001b[0m\n\u001b[0m",
      "\u001b[1;31mValueError\u001b[0m: substring not found"
     ]
    }
   ],
   "source": [
    "print(\"str2에서 e의 위치 : \", str2.find(\"e\"))\n",
    "print(\"str2에서 e의 위치 : \", str2.index(\"e\"))"
   ]
  },
  {
   "cell_type": "markdown",
   "metadata": {},
   "source": [
    "\"문자열1\".join(\"문자열0\") : \"문자열0\"의 문자들 사이에 \"문자열1\"을 삽입"
   ]
  },
  {
   "cell_type": "code",
   "execution_count": 73,
   "metadata": {},
   "outputs": [
    {
     "name": "stdout",
     "output_type": "stream",
     "text": [
      "P y t h o n\n",
      "PGyGtGhGoGn\n"
     ]
    }
   ],
   "source": [
    "print(\" \".join(str1[:6])) # str1[:6]은 원래 Python\n",
    "print(\"G\".join(str2[:6])) # str2[:6]은 원래 Python"
   ]
  },
  {
   "cell_type": "markdown",
   "metadata": {},
   "source": [
    "- upper() : 영문자를 대문자로 변경\n",
    "- lower() : 영문자를 소문자로 변경"
   ]
  },
  {
   "cell_type": "code",
   "execution_count": 75,
   "metadata": {},
   "outputs": [
    {
     "name": "stdout",
     "output_type": "stream",
     "text": [
      "PYTHON IS EASY AND SIMPLE\n",
      "python is easy and simple\n",
      "PYTHON은 쉽고 PYTHON은 단순한 언어입니다\n",
      "python은 쉽고 python은 단순한 언어입니다\n"
     ]
    }
   ],
   "source": [
    "print(str1.upper())\n",
    "print(str1.lower())\n",
    "print(str2.upper())\n",
    "print(str2.lower())"
   ]
  },
  {
   "cell_type": "markdown",
   "metadata": {},
   "source": [
    "- lstrip() : 왼쪽에 있는 공백을 제거\n",
    "- rstrip() : 오른쪽에 있는 공백을 제거\n",
    "- strip() : 양쪽에 있는 공백을 제거"
   ]
  },
  {
   "cell_type": "code",
   "execution_count": 79,
   "metadata": {},
   "outputs": [
    {
     "name": "stdout",
     "output_type": "stream",
     "text": [
      "Python  \n",
      "      Python\n",
      "Python\n"
     ]
    }
   ],
   "source": [
    "str3 = \"      Python  \"\n",
    "\n",
    "print(str3.lstrip())\n",
    "print(str3.rstrip())\n",
    "print(str3.strip())"
   ]
  },
  {
   "cell_type": "markdown",
   "metadata": {},
   "source": [
    "문자열0.replace(\"문자열1\", \"문자열2\") : \"문자열0\" 내의 \"문자열1\"을 \"문자열2\"로 변경"
   ]
  },
  {
   "cell_type": "code",
   "execution_count": 81,
   "metadata": {},
   "outputs": [
    {
     "name": "stdout",
     "output_type": "stream",
     "text": [
      "Python_is_easy_and_simple\n",
      "Pzthon은 쉽고 Pzthon은 단순한 언어입니다\n"
     ]
    }
   ],
   "source": [
    "print(str1.replace(\" \", \"_\"))\n",
    "print(str2.replace(\"y\", \"z\"))"
   ]
  },
  {
   "cell_type": "markdown",
   "metadata": {},
   "source": [
    "문자열.split(\"문자\") : 문자열을 문자를 기준으로 분리"
   ]
  },
  {
   "cell_type": "code",
   "execution_count": 83,
   "metadata": {},
   "outputs": [
    {
     "name": "stdout",
     "output_type": "stream",
     "text": [
      "['Python', 'is', 'easy', 'and', 'simple']\n",
      "['Pytho', '은 쉽고 Pytho', '은 단순한 언어입니다']\n"
     ]
    }
   ],
   "source": [
    "print(str1.split(\" \"))\n",
    "print(str2.split(\"n\"))"
   ]
  }
 ],
 "metadata": {
  "kernelspec": {
   "display_name": "Python 3",
   "language": "python",
   "name": "python3"
  },
  "language_info": {
   "codemirror_mode": {
    "name": "ipython",
    "version": 3
   },
   "file_extension": ".py",
   "mimetype": "text/x-python",
   "name": "python",
   "nbconvert_exporter": "python",
   "pygments_lexer": "ipython3",
   "version": "3.8.5"
  }
 },
 "nbformat": 4,
 "nbformat_minor": 4
}
