{
 "cells": [
  {
   "cell_type": "markdown",
   "metadata": {},
   "source": [
    "함수 : 특정한 기능을 구현해놓은 코드의 모임"
   ]
  },
  {
   "cell_type": "code",
   "execution_count": 1,
   "metadata": {},
   "outputs": [],
   "source": [
    "# 기본 구조\n",
    "\n",
    "# def 함수명(매개변수1, 매개변수2, ...):\n",
    "#     실행문\n",
    "    \n",
    "#     return 반환값\n",
    "\n",
    "# 호출\n",
    "# 반환값을 받는 변수 = 함수명(값)"
   ]
  },
  {
   "cell_type": "code",
   "execution_count": 2,
   "metadata": {},
   "outputs": [
    {
     "data": {
      "text/plain": [
       "30"
      ]
     },
     "execution_count": 2,
     "metadata": {},
     "output_type": "execute_result"
    }
   ],
   "source": [
    "# 두 수를 더하는 함수 add()\n",
    "def add(num1, num2):\n",
    "    hap = num1 + num2\n",
    "    \n",
    "    return hap\n",
    "\n",
    "result = add(10, 20)\n",
    "\n",
    "result"
   ]
  },
  {
   "cell_type": "code",
   "execution_count": 4,
   "metadata": {},
   "outputs": [
    {
     "name": "stdout",
     "output_type": "stream",
     "text": [
      "10\n"
     ]
    }
   ],
   "source": [
    "# 두 수를 빼는 함수 sub()\n",
    "def sub(num1, num2):\n",
    "    res = num1 - num2\n",
    "    \n",
    "    return res\n",
    "\n",
    "result = sub(20, 10)\n",
    "print(result)"
   ]
  },
  {
   "cell_type": "code",
   "execution_count": 7,
   "metadata": {},
   "outputs": [
    {
     "name": "stdout",
     "output_type": "stream",
     "text": [
      "[ 홍길동 ]님 안녕하세요\n"
     ]
    }
   ],
   "source": [
    "# 리턴 값이 없는 함수\n",
    "def printA(str1):\n",
    "    print(\"[ {} ]님 안녕하세요\".format(str1))\n",
    "\n",
    "printA(\"홍길동\")"
   ]
  },
  {
   "cell_type": "markdown",
   "metadata": {},
   "source": [
    "자신만의 함수 만들기"
   ]
  },
  {
   "cell_type": "code",
   "execution_count": 10,
   "metadata": {},
   "outputs": [
    {
     "name": "stdout",
     "output_type": "stream",
     "text": [
      "<<<<<<<<<< 문장 >>>>>>>>>>\n"
     ]
    }
   ],
   "source": [
    "def printB(str1, num):\n",
    "    print(\"<\" * num + \" \" + str1 + \" \" + \">\" * num)\n",
    "\n",
    "printB(\"문장\", 10)"
   ]
  },
  {
   "cell_type": "markdown",
   "metadata": {},
   "source": [
    "### 파라미터의 갯수를 알 수 없는 경우의 함수"
   ]
  },
  {
   "cell_type": "code",
   "execution_count": 3,
   "metadata": {},
   "outputs": [
    {
     "data": {
      "text/plain": [
       "91"
      ]
     },
     "execution_count": 3,
     "metadata": {},
     "output_type": "execute_result"
    }
   ],
   "source": [
    "# 함수 호출 시에 전달되는 모든 파라미터의 값을 더하는 함수\n",
    "# *매개변수명 : 가변 매개변수\n",
    "def add2(*num):\n",
    "    hap = 0\n",
    "    \n",
    "    # 파라미터로 넘어온 튜플의 값들의 합\n",
    "    for i in num:\n",
    "        hap += i\n",
    "    \n",
    "    return hap\n",
    "\n",
    "add2(29, 30, 32)"
   ]
  },
  {
   "cell_type": "code",
   "execution_count": 5,
   "metadata": {},
   "outputs": [
    {
     "data": {
      "text/plain": [
       "21"
      ]
     },
     "execution_count": 5,
     "metadata": {},
     "output_type": "execute_result"
    }
   ],
   "source": [
    "# 숫자들을 파라미터로 받아서 최솟값을 반환하는 함수\n",
    "def small(*num):\n",
    "    less = 99\n",
    "    # less = num[0]\n",
    "    \n",
    "    for i in num:\n",
    "        if less > i:\n",
    "            less = i\n",
    "    \n",
    "    return less\n",
    "\n",
    "small(50, 40, 21, 51)"
   ]
  },
  {
   "cell_type": "markdown",
   "metadata": {},
   "source": [
    "### 리턴값이 여러 개인 함수"
   ]
  },
  {
   "cell_type": "code",
   "execution_count": 7,
   "metadata": {},
   "outputs": [
    {
     "name": "stdout",
     "output_type": "stream",
     "text": [
      "(30, -10)\n",
      "30 -10\n"
     ]
    }
   ],
   "source": [
    "# 2개의 값을 파라미터로 받아서 합과 차를 반환\n",
    "def hap_sub(num1, num2):\n",
    "    hap = num1 + num2\n",
    "    sub = num1 - num2\n",
    "    \n",
    "    return hap, sub\n",
    "\n",
    "print(hap_sub(10, 20)) # 튜플\n",
    "value1, value2 = hap_sub(10, 20)\n",
    "print(value1, value2)"
   ]
  },
  {
   "cell_type": "code",
   "execution_count": 8,
   "metadata": {},
   "outputs": [
    {
     "name": "stdout",
     "output_type": "stream",
     "text": [
      "최댓값 : 80, 최솟값 : 3\n"
     ]
    }
   ],
   "source": [
    "# 여러 개의 값을 파라미터로 받아서 최솟값과 최댓값을 반환하는 함수\n",
    "def max_min(*num):\n",
    "    max_num = num[0]\n",
    "    min_num = num[0]\n",
    "    \n",
    "    for i in num:\n",
    "        if max_num < i:\n",
    "            max_num = i\n",
    "        if min_num > i:\n",
    "            min_num = i\n",
    "    \n",
    "    return max_num, min_num\n",
    "\n",
    "max_v, min_v = max_min(20, 10, 3, 60, 45, 80)\n",
    "print(\"최댓값 : {}, 최솟값 : {}\".format(max_v, min_v))"
   ]
  },
  {
   "cell_type": "markdown",
   "metadata": {},
   "source": [
    "가변매개변수(**)\n",
    "- 매개변수로 딕셔너리를 받고자하는 경우에 사용"
   ]
  },
  {
   "cell_type": "code",
   "execution_count": 10,
   "metadata": {},
   "outputs": [
    {
     "name": "stdout",
     "output_type": "stream",
     "text": [
      "{'name': '홍길동'}\n",
      "name : 홍길동\n"
     ]
    }
   ],
   "source": [
    "def print_dic(**arg):\n",
    "    print(arg)\n",
    "    \n",
    "    for key, value in arg.items():\n",
    "        print(key, \":\", value)\n",
    "    \n",
    "print_dic(name=\"홍길동\")"
   ]
  },
  {
   "cell_type": "markdown",
   "metadata": {},
   "source": [
    "모듈 / 라이브러리 만들기\n",
    "\n",
    "- 유사한 특성을 가진 함수를 그룹화 해놓은 것\n",
    "- from, import 명령을 이용해서 활용"
   ]
  },
  {
   "cell_type": "code",
   "execution_count": 11,
   "metadata": {},
   "outputs": [],
   "source": [
    "import module1"
   ]
  },
  {
   "cell_type": "code",
   "execution_count": 12,
   "metadata": {},
   "outputs": [
    {
     "data": {
      "text/plain": [
       "30"
      ]
     },
     "execution_count": 12,
     "metadata": {},
     "output_type": "execute_result"
    }
   ],
   "source": [
    "module1.add(10, 20)"
   ]
  },
  {
   "cell_type": "code",
   "execution_count": 13,
   "metadata": {},
   "outputs": [
    {
     "name": "stdout",
     "output_type": "stream",
     "text": [
      "[ qkq ]님 안녕하세요\n"
     ]
    }
   ],
   "source": [
    "module1.printA(\"qkq\")"
   ]
  },
  {
   "cell_type": "markdown",
   "metadata": {},
   "source": [
    "- 반복문 : 동일한 코드를 여러번 실행\n",
    "- 함수 : 특정 기능을 구현한 코드\n",
    "- 모듈 : 유사한 기능을 하는 함수를 모아놓은 것\n",
    "- 라이브러리 : 모듈의 집합\n",
    "- 프레임워크 : 라이브러리와 이를 지원하는 통합 플랫폼"
   ]
  },
  {
   "cell_type": "code",
   "execution_count": 1,
   "metadata": {},
   "outputs": [],
   "source": [
    "import test_module"
   ]
  },
  {
   "cell_type": "code",
   "execution_count": null,
   "metadata": {},
   "outputs": [],
   "source": [
    "# tab 키를 누르면 모듈 내의 함수 목록을 확인\n",
    "# shift + tab 키를 누르면 해당 함수의 Docstring(설명)을 확인 \n",
    "test_module.max_min()"
   ]
  },
  {
   "cell_type": "code",
   "execution_count": 12,
   "metadata": {},
   "outputs": [],
   "source": [
    "# 별칭을 설정 : as\n",
    "import test_module as t"
   ]
  },
  {
   "cell_type": "code",
   "execution_count": 16,
   "metadata": {},
   "outputs": [
    {
     "data": {
      "text/plain": [
       "(70, -30)"
      ]
     },
     "execution_count": 16,
     "metadata": {},
     "output_type": "execute_result"
    }
   ],
   "source": [
    "t.hap_sub(20, 50)"
   ]
  },
  {
   "cell_type": "code",
   "execution_count": 20,
   "metadata": {},
   "outputs": [
    {
     "data": {
      "text/plain": [
       "19"
      ]
     },
     "execution_count": 20,
     "metadata": {},
     "output_type": "execute_result"
    }
   ],
   "source": [
    "t.add2(2,3,4,5,5)"
   ]
  },
  {
   "cell_type": "code",
   "execution_count": 13,
   "metadata": {},
   "outputs": [],
   "source": [
    "# 모듈내의 함수를 직접 로딩 : from 모듈명 import 함수명\n",
    "from test_module import add2, small"
   ]
  },
  {
   "cell_type": "code",
   "execution_count": 14,
   "metadata": {},
   "outputs": [
    {
     "data": {
      "text/plain": [
       "27"
      ]
     },
     "execution_count": 14,
     "metadata": {},
     "output_type": "execute_result"
    }
   ],
   "source": [
    "add2(2,3,4,5,6,7)"
   ]
  },
  {
   "cell_type": "code",
   "execution_count": 15,
   "metadata": {},
   "outputs": [
    {
     "data": {
      "text/plain": [
       "1"
      ]
     },
     "execution_count": 15,
     "metadata": {},
     "output_type": "execute_result"
    }
   ],
   "source": [
    "small(4,7,3,1,6,7,8)"
   ]
  },
  {
   "cell_type": "code",
   "execution_count": 26,
   "metadata": {},
   "outputs": [
    {
     "data": {
      "text/plain": [
       "-8"
      ]
     },
     "execution_count": 26,
     "metadata": {},
     "output_type": "execute_result"
    }
   ],
   "source": [
    "t.small(4,5,4,2,1,3,5,-8,9,0)"
   ]
  },
  {
   "cell_type": "code",
   "execution_count": null,
   "metadata": {},
   "outputs": [],
   "source": []
  },
  {
   "cell_type": "code",
   "execution_count": null,
   "metadata": {},
   "outputs": [],
   "source": []
  },
  {
   "cell_type": "code",
   "execution_count": null,
   "metadata": {},
   "outputs": [],
   "source": []
  },
  {
   "cell_type": "code",
   "execution_count": null,
   "metadata": {},
   "outputs": [],
   "source": []
  },
  {
   "cell_type": "code",
   "execution_count": null,
   "metadata": {},
   "outputs": [],
   "source": []
  },
  {
   "cell_type": "code",
   "execution_count": null,
   "metadata": {},
   "outputs": [],
   "source": []
  },
  {
   "cell_type": "code",
   "execution_count": null,
   "metadata": {},
   "outputs": [],
   "source": []
  },
  {
   "cell_type": "code",
   "execution_count": null,
   "metadata": {},
   "outputs": [],
   "source": []
  },
  {
   "cell_type": "code",
   "execution_count": null,
   "metadata": {},
   "outputs": [],
   "source": []
  },
  {
   "cell_type": "code",
   "execution_count": null,
   "metadata": {},
   "outputs": [],
   "source": []
  },
  {
   "cell_type": "code",
   "execution_count": null,
   "metadata": {},
   "outputs": [],
   "source": []
  },
  {
   "cell_type": "code",
   "execution_count": null,
   "metadata": {},
   "outputs": [],
   "source": []
  },
  {
   "cell_type": "code",
   "execution_count": null,
   "metadata": {},
   "outputs": [],
   "source": []
  },
  {
   "cell_type": "code",
   "execution_count": null,
   "metadata": {},
   "outputs": [],
   "source": []
  }
 ],
 "metadata": {
  "kernelspec": {
   "display_name": "Python 3",
   "language": "python",
   "name": "python3"
  },
  "language_info": {
   "codemirror_mode": {
    "name": "ipython",
    "version": 3
   },
   "file_extension": ".py",
   "mimetype": "text/x-python",
   "name": "python",
   "nbconvert_exporter": "python",
   "pygments_lexer": "ipython3",
   "version": "3.8.5"
  }
 },
 "nbformat": 4,
 "nbformat_minor": 4
}
