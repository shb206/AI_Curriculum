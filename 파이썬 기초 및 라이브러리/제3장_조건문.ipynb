{
 "cells": [
  {
   "cell_type": "markdown",
   "metadata": {},
   "source": [
    "조건 if <br>\n",
    "\n",
    "if 조건문 : <br>\n",
    ">    실행문\n",
    "    \n",
    "조건문이 True이면 실행문을 실행하고 False이면 실행하지 않음"
   ]
  },
  {
   "cell_type": "code",
   "execution_count": 3,
   "metadata": {},
   "outputs": [
    {
     "name": "stdout",
     "output_type": "stream",
     "text": [
      "택시를 탄다\n",
      "두 번 탄다\n"
     ]
    }
   ],
   "source": [
    "money = 10000\n",
    "\n",
    "if money >= 10000:\n",
    "    print(\"택시를 탄다\")\n",
    "    print(\"두 번 탄다\")"
   ]
  },
  {
   "cell_type": "code",
   "execution_count": 7,
   "metadata": {},
   "outputs": [
    {
     "name": "stdout",
     "output_type": "stream",
     "text": [
      "숫자를 입력하세요 >> 19\n"
     ]
    }
   ],
   "source": [
    "# 숫자를 입력받아서 짝수이면 \"짝수입니다\" 출력\n",
    "num = int(input(\"숫자를 입력하세요 >> \"))\n",
    "\n",
    "if num % 2 == 0:\n",
    "    print(\"짝수입니다\")"
   ]
  },
  {
   "cell_type": "code",
   "execution_count": 8,
   "metadata": {},
   "outputs": [],
   "source": [
    "# if 조건문 :\n",
    "#      실행문1\n",
    "# else:\n",
    "#      실행문2\n",
    "\n",
    "# 조건문이 True이면 실행문1을 실행하고\n",
    "# False이면 실행문2를 실행한다"
   ]
  },
  {
   "cell_type": "code",
   "execution_count": 9,
   "metadata": {},
   "outputs": [
    {
     "name": "stdout",
     "output_type": "stream",
     "text": [
      "버스를 탄다\n"
     ]
    }
   ],
   "source": [
    "money = 10000\n",
    "\n",
    "if money > 10000:\n",
    "    print(\"택시를 탄다\")\n",
    "else:\n",
    "    print(\"버스를 탄다\")"
   ]
  },
  {
   "cell_type": "code",
   "execution_count": 11,
   "metadata": {},
   "outputs": [
    {
     "name": "stdout",
     "output_type": "stream",
     "text": [
      "숫자를 입력하세요 >> 7\n",
      "홀수입니다\n"
     ]
    }
   ],
   "source": [
    "num = int(input(\"숫자를 입력하세요 >> \"))\n",
    "\n",
    "if num % 2 == 0:\n",
    "    print(\"짝수입니다\")\n",
    "else:\n",
    "    print(\"홀수입니다\")"
   ]
  },
  {
   "cell_type": "code",
   "execution_count": 15,
   "metadata": {},
   "outputs": [
    {
     "name": "stdout",
     "output_type": "stream",
     "text": [
      "숫자를 입력하세요 >> 30\n",
      "3과 5의 배수입니다.\n"
     ]
    }
   ],
   "source": [
    "num = int(input(\"숫자를 입력하세요 >> \"))\n",
    "\n",
    "if num % 3 == 0 and num % 5 == 0:\n",
    "    print(\"3과 5의 배수입니다.\")\n",
    "else:\n",
    "    print(\"3과 5의 배수가 아닙니다.\")"
   ]
  },
  {
   "cell_type": "markdown",
   "metadata": {},
   "source": [
    "### 조건문 if elif else"
   ]
  },
  {
   "cell_type": "code",
   "execution_count": 19,
   "metadata": {},
   "outputs": [],
   "source": [
    "# if 조건문 1:\n",
    "#       실행문1\n",
    "# elif 조건문 2:\n",
    "#       실행문2\n",
    "# else\n",
    "#       실행문3\n",
    "\n",
    "# 조건문1이 True이면 실행문1을 수행하고\n",
    "# False이면 조건문 2를 판단하여 True이면 실행문2를 수행하고\n",
    "# False이면 실행문 3을 수행한다"
   ]
  },
  {
   "cell_type": "code",
   "execution_count": 20,
   "metadata": {},
   "outputs": [
    {
     "name": "stdout",
     "output_type": "stream",
     "text": [
      "걸어간다\n"
     ]
    }
   ],
   "source": [
    "money = 1000\n",
    "\n",
    "if money >= 10000:\n",
    "    print(\"택시를 탄다\")\n",
    "elif money >= 3000:\n",
    "    print(\"버스를 탄다\")\n",
    "else:\n",
    "    print(\"걸어간다\")"
   ]
  },
  {
   "cell_type": "code",
   "execution_count": 25,
   "metadata": {},
   "outputs": [
    {
     "name": "stdout",
     "output_type": "stream",
     "text": [
      "점수 입력 >> 100\n",
      "100점은 A학점 입니다.\n"
     ]
    }
   ],
   "source": [
    "score = int(input(\"점수 입력 >> \"))\n",
    "\n",
    "if score <= 100 and score >= 90:\n",
    "    grade = \"A\"\n",
    "elif score < 90 and score >= 80:\n",
    "    grade = \"B\"\n",
    "elif score < 80 and score >= 70:\n",
    "    grade = \"C\"\n",
    "elif score < 70 and score >= 60:\n",
    "    grade = \"D\"\n",
    "else:\n",
    "    grade = \"F\"\n",
    "    \n",
    "print(\"{}점은 {}학점 입니다.\".format(score, grade))"
   ]
  },
  {
   "cell_type": "markdown",
   "metadata": {},
   "source": [
    "### 새해 첫날 복습"
   ]
  },
  {
   "cell_type": "markdown",
   "metadata": {},
   "source": [
    "연산자\n",
    "\n",
    "- 산술연산자 : +, -, *, /, //, %\n",
    "- 지수연산자 : **\n",
    "- 대입연산자 : =, 산술연산자=\n",
    "- 관계(비교)연산자 : ==, !=, >, >=, <, <=\n",
    "- 논리연산자 : and, or, not\n",
    "- 삼항연산자 : 실행문1 if 조건문 else 실행문2"
   ]
  },
  {
   "cell_type": "code",
   "execution_count": 1,
   "metadata": {},
   "outputs": [
    {
     "name": "stdout",
     "output_type": "stream",
     "text": [
      "100200\n"
     ]
    }
   ],
   "source": [
    "# + 연산자가 문자열과 만나면 -> 결합(연결) 연산자로 사용됨\n",
    "\n",
    "print(\"100\" + \"200\")"
   ]
  },
  {
   "cell_type": "code",
   "execution_count": 2,
   "metadata": {},
   "outputs": [
    {
     "name": "stdout",
     "output_type": "stream",
     "text": [
      "300\n"
     ]
    }
   ],
   "source": [
    "# 문자열을 숫자로 변경 : int()\n",
    "print(int(\"100\") + int(\"200\"))"
   ]
  },
  {
   "cell_type": "code",
   "execution_count": 3,
   "metadata": {},
   "outputs": [
    {
     "name": "stdout",
     "output_type": "stream",
     "text": [
      "314.0\n"
     ]
    }
   ],
   "source": [
    "# 문자열을 실수로 변경 : float()\n",
    "pi = \"3.14\"\n",
    "r = 10\n",
    "\n",
    "print(float(pi) * r * r)"
   ]
  },
  {
   "cell_type": "code",
   "execution_count": 4,
   "metadata": {},
   "outputs": [
    {
     "name": "stdout",
     "output_type": "stream",
     "text": [
      "100200\n"
     ]
    }
   ],
   "source": [
    "# 숫자를 문자열로 변경 : str()\n",
    "print(str(100) + \"200\")"
   ]
  },
  {
   "cell_type": "code",
   "execution_count": 5,
   "metadata": {},
   "outputs": [
    {
     "name": "stdout",
     "output_type": "stream",
     "text": [
      "gooooooooood\n"
     ]
    }
   ],
   "source": [
    "# * 연산자가 문자열과 만나면 -> 반복연산자로 사용됨\n",
    "print(\"g\"+(\"o\" * 10)+ \"d\")"
   ]
  },
  {
   "cell_type": "code",
   "execution_count": 6,
   "metadata": {},
   "outputs": [
    {
     "name": "stdout",
     "output_type": "stream",
     "text": [
      "3\n",
      "1\n"
     ]
    }
   ],
   "source": [
    "# // (몫), % (나머지)\n",
    "num1 = 10\n",
    "num2 = 3\n",
    "\n",
    "print(num1 // num2)\n",
    "print(num1 % num2)"
   ]
  },
  {
   "cell_type": "code",
   "execution_count": 7,
   "metadata": {},
   "outputs": [
    {
     "name": "stdout",
     "output_type": "stream",
     "text": [
      "False\n",
      "True\n"
     ]
    }
   ],
   "source": [
    "# 비교연산자 ==, !=\n",
    "# 출력값 : True, False\n",
    "\n",
    "print(num1 == num2)\n",
    "print(num1 != num2)"
   ]
  },
  {
   "cell_type": "code",
   "execution_count": 8,
   "metadata": {},
   "outputs": [
    {
     "name": "stdout",
     "output_type": "stream",
     "text": [
      "20\n"
     ]
    }
   ],
   "source": [
    "# 대입(복합) 연산자 : 산술연산자=\n",
    "# num1 = num1 + 10\n",
    "num1 += 10\n",
    "print(num1)"
   ]
  },
  {
   "cell_type": "code",
   "execution_count": 10,
   "metadata": {},
   "outputs": [
    {
     "name": "stdout",
     "output_type": "stream",
     "text": [
      "False\n",
      "True\n",
      "True\n"
     ]
    }
   ],
   "source": [
    "# 논리연산자\n",
    "# and : 2개의 조건이 모두 True인 경우에만 True\n",
    "# or : 2개의 조건이 모두 False인 경우에만 False\n",
    "# not : True -> False, False -> True\n",
    "\n",
    "print((num1 == num2) and (num1 >= 20))\n",
    "print((num1 == num2) or (num1 >= 20))\n",
    "print(not (num1 == num2))"
   ]
  },
  {
   "cell_type": "code",
   "execution_count": 11,
   "metadata": {},
   "outputs": [
    {
     "name": "stdout",
     "output_type": "stream",
     "text": [
      "홀수\n"
     ]
    }
   ],
   "source": [
    "# 삼항 연산자\n",
    "num1 = 21\n",
    "\n",
    "a = \"짝수\" if num1 % 2 == 0 else \"홀수\"\n",
    "\n",
    "print(a)"
   ]
  },
  {
   "cell_type": "code",
   "execution_count": 13,
   "metadata": {},
   "outputs": [
    {
     "name": "stdout",
     "output_type": "stream",
     "text": [
      "숫자를 입력 >> 170\n",
      "170\n"
     ]
    }
   ],
   "source": [
    "# 사용자로부터 값을 입력받으려고 한다면 -> input()\n",
    "\n",
    "num = input(\"숫자를 입력 >> \")\n",
    "print(num)"
   ]
  },
  {
   "cell_type": "code",
   "execution_count": 15,
   "metadata": {},
   "outputs": [
    {
     "name": "stdout",
     "output_type": "stream",
     "text": [
      "숫자를 입력 >> 30\n",
      "40\n"
     ]
    }
   ],
   "source": [
    "num = int(input(\"숫자를 입력 >> \"))\n",
    "print(num + 10)"
   ]
  },
  {
   "cell_type": "markdown",
   "metadata": {},
   "source": [
    "조건문\n",
    "\n",
    "- if\n",
    "- if else\n",
    "- if elif else"
   ]
  },
  {
   "cell_type": "code",
   "execution_count": 16,
   "metadata": {},
   "outputs": [
    {
     "name": "stdout",
     "output_type": "stream",
     "text": [
      "짝수\n"
     ]
    }
   ],
   "source": [
    "# 조건문 if : 조건이 만족하면 내부실행문을 실행\n",
    "# 콜론(:)으로 조건문의 시작임을 표시\n",
    "# 들여쓰기로 조건문의 내부실행문을 표시\n",
    "num = 10\n",
    "\n",
    "if num % 2 == 0:\n",
    "    print(\"짝수\")"
   ]
  },
  {
   "cell_type": "code",
   "execution_count": 17,
   "metadata": {},
   "outputs": [
    {
     "name": "stdout",
     "output_type": "stream",
     "text": [
      "짝수\n"
     ]
    }
   ],
   "source": [
    "# 조건문 if else : 조건이 만족하면 if 내부실행문을 실행\n",
    "# 만족하지 않으면 else 내부실행문을 실행\n",
    "if num % 2 == 0:\n",
    "    print(\"짝수\")\n",
    "else:\n",
    "    print(\"홀수\")"
   ]
  },
  {
   "cell_type": "code",
   "execution_count": 18,
   "metadata": {},
   "outputs": [
    {
     "name": "stdout",
     "output_type": "stream",
     "text": [
      "B학점\n"
     ]
    }
   ],
   "source": [
    "# 조건문 if elif else : 조건이 만족하면 if 내부실행문을 실행\n",
    "# 만족하지 않으면 elif 조건을 검사하고\n",
    "# elif 조건이 만족되면 elif 내부실행문을 실행\n",
    "# 만족하지 않으면 else 내부실행문을 실행\n",
    "\n",
    "score = 83\n",
    "\n",
    "if score > 90:\n",
    "    print(\"A학점\")\n",
    "elif score > 80:\n",
    "    print(\"B학점\")\n",
    "elif score > 80:\n",
    "    print(\"C학점\")\n",
    "elif score > 80:\n",
    "    print(\"D학점\")\n",
    "else:\n",
    "    print(\"F학점\")"
   ]
  },
  {
   "cell_type": "code",
   "execution_count": 22,
   "metadata": {},
   "outputs": [
    {
     "name": "stdout",
     "output_type": "stream",
     "text": [
      "-----[SM Coffee]-----\n",
      "금액을 입력하세요 >> 500\n",
      "커피를 고르세요.\n",
      "[1]에스프레소(600원) [2]아메리카노(1000원) [3]카페라떼(1300원) >> 1\n",
      "돈이 부족해요..T^T\n"
     ]
    }
   ],
   "source": [
    "print(\"-----[SM Coffee]-----\")\n",
    "money = int(input(\"금액을 입력하세요 >> \"))\n",
    "print(\"커피를 고르세요.\")\n",
    "pick = int(input(\"[1]에스프레소(600원) [2]아메리카노(1000원) [3]카페라떼(1300원) >> \"))\n",
    "\n",
    "if pick == 1:\n",
    "    if money < 600:\n",
    "        print(\"돈이 부족해요..T^T\")\n",
    "    else:\n",
    "        print(\"거스름돈 : %d원\"%(money - 600))\n",
    "elif pick == 2:\n",
    "    if money < 1000:\n",
    "        print(\"돈이 부족해요..T^T\")\n",
    "    else:\n",
    "        print(\"거스름돈 : %d원\"%(money - 1000))\n",
    "elif pick == 3:\n",
    "    if money < 1300:\n",
    "        print(\"돈이 부족해요..T^T\")\n",
    "    else:\n",
    "        print(\"거스름돈 : %d원\"%(money - 1300))\n",
    "else:\n",
    "    print(\"잘못 입력하였습니다.\")"
   ]
  },
  {
   "cell_type": "code",
   "execution_count": 25,
   "metadata": {},
   "outputs": [
    {
     "name": "stdout",
     "output_type": "stream",
     "text": [
      "-----[SM Coffee]-----\n",
      "금액을 입력하세요 >> 2500\n",
      "커피를 고르세요.\n",
      "[1]에스프레소(600원) [2]아메리카노(1000원) [3]카페라떼(1300원) >> 3\n",
      "거스름돈: 1200원\n",
      "천원: 1장\n",
      "오백원: 0개\n",
      "백원: 2개\n"
     ]
    }
   ],
   "source": [
    "print(\"-----[SM Coffee]-----\")\n",
    "money = int(input(\"금액을 입력하세요 >> \"))\n",
    "print(\"커피를 고르세요.\")\n",
    "pick = int(input(\"[1]에스프레소(600원) [2]아메리카노(1000원) [3]카페라떼(1300원) >> \"))\n",
    "\n",
    "if pick == 1:\n",
    "    money -= 600\n",
    "elif pick == 2:\n",
    "    money -= 1000\n",
    "elif pick == 3:\n",
    "    money -= 1300\n",
    "\n",
    "if money < 0:\n",
    "    print(\"돈이 부족해요.. T^T\")\n",
    "else:\n",
    "    print(\"거스름돈: {}원\".format(money))\n",
    "    print(\"천원: {}장\".format(money // 1000))\n",
    "    money -= (money // 1000) * 1000\n",
    "    print(\"오백원: {}개\".format(money // 500))\n",
    "    money -= (money // 500) * 500\n",
    "    print(\"백원: {}개\".format(money // 100))\n",
    "    \n",
    "# charge1000 = charge // 1000\n",
    "# charge500 = (charge % 1000) // 500\n",
    "# charge100 = (charge % 500) // 100\n",
    "# 거스름돈 정리 (charege = money - 가격)"
   ]
  }
 ],
 "metadata": {
  "kernelspec": {
   "display_name": "Python 3",
   "language": "python",
   "name": "python3"
  },
  "language_info": {
   "codemirror_mode": {
    "name": "ipython",
    "version": 3
   },
   "file_extension": ".py",
   "mimetype": "text/x-python",
   "name": "python",
   "nbconvert_exporter": "python",
   "pygments_lexer": "ipython3",
   "version": "3.8.5"
  }
 },
 "nbformat": 4,
 "nbformat_minor": 4
}
