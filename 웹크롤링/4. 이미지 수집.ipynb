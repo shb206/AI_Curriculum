{
 "cells": [
  {
   "cell_type": "code",
   "execution_count": 1,
   "metadata": {},
   "outputs": [],
   "source": [
    "# urlretrieve : url로 표시된 자원(이미지, 영상, 음성, ...)을 로컬PC로 복사\n",
    "from urllib.request import urlretrieve"
   ]
  },
  {
   "cell_type": "code",
   "execution_count": 5,
   "metadata": {},
   "outputs": [
    {
     "data": {
      "text/plain": [
       "('images/apple.png', <http.client.HTTPMessage at 0x20a291a53d0>)"
      ]
     },
     "execution_count": 5,
     "metadata": {},
     "output_type": "execute_result"
    }
   ],
   "source": [
    "url = 'https://search.pstatic.net/common/?src=http%3A%2F%2Fcafefiles.naver.net%2FMjAyMDA0MTJfMTg3%2FMDAxNTg2NjY2MDY3NDgx.kDPPZZHDfdLwSAcPKj-vvE2Gw3vXzlgmjo-TmvrPLpUg.R9DAoPz8NnaPB6eiPNNlMseg1Ntnont4vDVCMzWu8lAg.JPEG%2FexternalFile.jpg&type=a340'\n",
    "\n",
    "urlretrieve(url, 'images/apple.png')"
   ]
  },
  {
   "cell_type": "markdown",
   "metadata": {},
   "source": [
    "## 네이버 이미지 주소 수집"
   ]
  },
  {
   "cell_type": "code",
   "execution_count": 6,
   "metadata": {},
   "outputs": [],
   "source": [
    "import requests as req\n",
    "from bs4 import BeautifulSoup as bs\n",
    "from urllib.request import urlretrieve\n",
    "from tqdm.notebook import tqdm as tn\n",
    "\n",
    "# 웹 페이지를 요청/응답받는 함수\n",
    "def getRequest(url):\n",
    "    header = {\n",
    "        'user-agent':'Mozilla/5.0 (Windows NT 10.0; Win64; x64) AppleWebKit/537.36 (KHTML, like Gecko) Chrome/87.0.4280.141 Safari/537.36'\n",
    "    }\n",
    "    return req.get(url, headers=header)\n",
    "\n",
    "# 응답받은 데이터를 파이썬 객체로 변환하는 함수\n",
    "def transform(url):\n",
    "    return bs(getRequest(url).text, 'html.parser')"
   ]
  },
  {
   "cell_type": "code",
   "execution_count": 12,
   "metadata": {},
   "outputs": [],
   "source": [
    "url = 'https://www.bing.com/images/search?q=%eb%b0%b0&form=HDRSC2&first=1&tsc=ImageBasicHover'\n",
    "\n",
    "html = transform(url)"
   ]
  },
  {
   "cell_type": "code",
   "execution_count": 28,
   "metadata": {},
   "outputs": [],
   "source": [
    "src_list = []\n",
    "\n",
    "for img in html.select('img.mimg'):\n",
    "    # 요소의 속성값 접근\n",
    "    \n",
    "    # src 속성이 없는 경우\n",
    "    if img.get('src') == None:\n",
    "#         print(img.get('data-src'))\n",
    "        src_list.append(img.get('data-src'))\n",
    "    else:\n",
    "        # src 속성값에 'data:'가 포함된 경우(수집 못하는 이미지)\n",
    "        if 'data' in img.get('src'):\n",
    "            continue\n",
    "        else:\n",
    "#             print(img.get('src'))\n",
    "            src_list.append(img.get('src'))\n",
    "#     print('*'*50)"
   ]
  },
  {
   "cell_type": "code",
   "execution_count": 29,
   "metadata": {},
   "outputs": [
    {
     "data": {
      "text/plain": [
       "25"
      ]
     },
     "execution_count": 29,
     "metadata": {},
     "output_type": "execute_result"
    }
   ],
   "source": [
    "len(src_list)"
   ]
  },
  {
   "cell_type": "code",
   "execution_count": 32,
   "metadata": {},
   "outputs": [],
   "source": [
    "# 이미지 주소를 활용하여 로컬PC에 'images' 폴더로 저장\n",
    "\n",
    "for i in range(len(src_list)):\n",
    "    urlretrieve(src_list[i], 'images/{}_{}.png'.format('pear', i+1))"
   ]
  },
  {
   "cell_type": "markdown",
   "metadata": {},
   "source": [
    "## 확장자 추출"
   ]
  },
  {
   "cell_type": "code",
   "execution_count": 35,
   "metadata": {},
   "outputs": [
    {
     "data": {
      "text/plain": [
       "'jpg'"
      ]
     },
     "execution_count": 35,
     "metadata": {},
     "output_type": "execute_result"
    }
   ],
   "source": [
    "img_src = 'https://search.pstatic.net/common/?src=http%3A%2F%2Fblogfiles.naver.net%2FMjAyMTAxMTFfMjUg%2FMDAxNjEwMzY0MTk3NjA5.FT6ng6TZilc_5W9mIpmXwR6lA0EcmkkMX77rD0_1fGwg.9I9oF_HpOinSWUC9dp67jBYc8tCWs67C1eJctpH7pDog.JPEG.choionzoo%2FIMG_9565.jpg&type=a340'\n",
    "\n",
    "# rfind() : 해당 문자열의 마지막 발생 인덱스를 반환\n",
    "start = img_src.rfind('.')+1\n",
    "end = img_src.rfind('&')\n",
    "\n",
    "img_src[start:end]"
   ]
  },
  {
   "cell_type": "markdown",
   "metadata": {},
   "source": [
    "## 네이버 상영작 & 예정작 영화 포스터 수집"
   ]
  },
  {
   "cell_type": "code",
   "execution_count": 36,
   "metadata": {},
   "outputs": [],
   "source": [
    "url = 'https://movie.naver.com/movie/running/current.nhn'\n",
    "\n",
    "html = transform(url)"
   ]
  },
  {
   "cell_type": "code",
   "execution_count": 61,
   "metadata": {},
   "outputs": [
    {
     "data": {
      "application/vnd.jupyter.widget-view+json": {
       "model_id": "24479094c74044818fbfbc2e26757626",
       "version_major": 2,
       "version_minor": 0
      },
      "text/plain": [
       "HBox(children=(HTML(value=''), FloatProgress(value=0.0, max=129.0), HTML(value='')))"
      ]
     },
     "metadata": {},
     "output_type": "display_data"
    },
    {
     "name": "stdout",
     "output_type": "stream",
     "text": [
      "\n"
     ]
    }
   ],
   "source": [
    "for img in tn(html.select('div.thumb img')):\n",
    "    img_src = img.get('src')\n",
    "    img_name = img.get('alt').strip()\n",
    "    \n",
    "    start = img_src.rfind('.')+1\n",
    "    end = img_src.rfind('?')\n",
    "    \n",
    "    urlretrieve(img_src, 'movie/{}.{}'.format(img_name.replace(\": \", '_'), img_src[start:end]))"
   ]
  }
 ],
 "metadata": {
  "kernelspec": {
   "display_name": "Python 3",
   "language": "python",
   "name": "python3"
  },
  "language_info": {
   "codemirror_mode": {
    "name": "ipython",
    "version": 3
   },
   "file_extension": ".py",
   "mimetype": "text/x-python",
   "name": "python",
   "nbconvert_exporter": "python",
   "pygments_lexer": "ipython3",
   "version": "3.8.5"
  }
 },
 "nbformat": 4,
 "nbformat_minor": 4
}
